{
 "cells": [
  {
   "cell_type": "code",
   "execution_count": 1,
   "metadata": {},
   "outputs": [],
   "source": [
    "import pandas as pd\n",
    "import numpy as np\n",
    "import seaborn as sns\n",
    "from matplotlib import pyplot as plt\n",
    "from sklearn.linear_model import LinearRegression\n",
    "from sklearn.model_selection import train_test_split\n",
    "from sklearn.metrics import mean_squared_error as MSE\n",
    "import re"
   ]
  },
  {
   "cell_type": "code",
   "execution_count": 2,
   "metadata": {},
   "outputs": [],
   "source": [
    "file_name = './amazon_reviews_us_Gift_Card_v1_00.tsv'\n",
    "\n",
    "df = pd.read_csv(file_name, sep='\\t')"
   ]
  },
  {
   "cell_type": "code",
   "execution_count": 3,
   "metadata": {},
   "outputs": [
    {
     "data": {
      "text/html": [
       "<div>\n",
       "<style scoped>\n",
       "    .dataframe tbody tr th:only-of-type {\n",
       "        vertical-align: middle;\n",
       "    }\n",
       "\n",
       "    .dataframe tbody tr th {\n",
       "        vertical-align: top;\n",
       "    }\n",
       "\n",
       "    .dataframe thead th {\n",
       "        text-align: right;\n",
       "    }\n",
       "</style>\n",
       "<table border=\"1\" class=\"dataframe\">\n",
       "  <thead>\n",
       "    <tr style=\"text-align: right;\">\n",
       "      <th></th>\n",
       "      <th>marketplace</th>\n",
       "      <th>customer_id</th>\n",
       "      <th>review_id</th>\n",
       "      <th>product_id</th>\n",
       "      <th>product_parent</th>\n",
       "      <th>product_title</th>\n",
       "      <th>product_category</th>\n",
       "      <th>star_rating</th>\n",
       "      <th>helpful_votes</th>\n",
       "      <th>total_votes</th>\n",
       "      <th>vine</th>\n",
       "      <th>verified_purchase</th>\n",
       "      <th>review_headline</th>\n",
       "      <th>review_body</th>\n",
       "      <th>review_date</th>\n",
       "    </tr>\n",
       "  </thead>\n",
       "  <tbody>\n",
       "    <tr>\n",
       "      <th>0</th>\n",
       "      <td>US</td>\n",
       "      <td>24371595</td>\n",
       "      <td>R27ZP1F1CD0C3Y</td>\n",
       "      <td>B004LLIL5A</td>\n",
       "      <td>346014806</td>\n",
       "      <td>Amazon eGift Card - Celebrate</td>\n",
       "      <td>Gift Card</td>\n",
       "      <td>5</td>\n",
       "      <td>0</td>\n",
       "      <td>0</td>\n",
       "      <td>N</td>\n",
       "      <td>Y</td>\n",
       "      <td>Five Stars</td>\n",
       "      <td>Great birthday gift for a young adult.</td>\n",
       "      <td>2015-08-31</td>\n",
       "    </tr>\n",
       "    <tr>\n",
       "      <th>1</th>\n",
       "      <td>US</td>\n",
       "      <td>42489718</td>\n",
       "      <td>RJ7RSBCHUDNNE</td>\n",
       "      <td>B004LLIKVU</td>\n",
       "      <td>473048287</td>\n",
       "      <td>Amazon.com eGift Cards</td>\n",
       "      <td>Gift Card</td>\n",
       "      <td>5</td>\n",
       "      <td>0</td>\n",
       "      <td>0</td>\n",
       "      <td>N</td>\n",
       "      <td>Y</td>\n",
       "      <td>Gift card for the greatest selection of items ...</td>\n",
       "      <td>It's an Amazon gift card and with over 9823983...</td>\n",
       "      <td>2015-08-31</td>\n",
       "    </tr>\n",
       "    <tr>\n",
       "      <th>2</th>\n",
       "      <td>US</td>\n",
       "      <td>861463</td>\n",
       "      <td>R1HVYBSKLQJI5S</td>\n",
       "      <td>B00IX1I3G6</td>\n",
       "      <td>926539283</td>\n",
       "      <td>Amazon.com Gift Card Balance Reload</td>\n",
       "      <td>Gift Card</td>\n",
       "      <td>5</td>\n",
       "      <td>0</td>\n",
       "      <td>0</td>\n",
       "      <td>N</td>\n",
       "      <td>Y</td>\n",
       "      <td>Five Stars</td>\n",
       "      <td>Good</td>\n",
       "      <td>2015-08-31</td>\n",
       "    </tr>\n",
       "    <tr>\n",
       "      <th>3</th>\n",
       "      <td>US</td>\n",
       "      <td>25283295</td>\n",
       "      <td>R2HAXF0IIYQBIR</td>\n",
       "      <td>B00IX1I3G6</td>\n",
       "      <td>926539283</td>\n",
       "      <td>Amazon.com Gift Card Balance Reload</td>\n",
       "      <td>Gift Card</td>\n",
       "      <td>1</td>\n",
       "      <td>0</td>\n",
       "      <td>0</td>\n",
       "      <td>N</td>\n",
       "      <td>Y</td>\n",
       "      <td>One Star</td>\n",
       "      <td>Fair</td>\n",
       "      <td>2015-08-31</td>\n",
       "    </tr>\n",
       "    <tr>\n",
       "      <th>4</th>\n",
       "      <td>US</td>\n",
       "      <td>397970</td>\n",
       "      <td>RNYLPX611NB7Q</td>\n",
       "      <td>B005ESMGV4</td>\n",
       "      <td>379368939</td>\n",
       "      <td>Amazon.com Gift Cards, Pack of 3 (Various Desi...</td>\n",
       "      <td>Gift Card</td>\n",
       "      <td>5</td>\n",
       "      <td>0</td>\n",
       "      <td>0</td>\n",
       "      <td>N</td>\n",
       "      <td>Y</td>\n",
       "      <td>Five Stars</td>\n",
       "      <td>I can't believe how quickly Amazon can get the...</td>\n",
       "      <td>2015-08-31</td>\n",
       "    </tr>\n",
       "  </tbody>\n",
       "</table>\n",
       "</div>"
      ],
      "text/plain": [
       "  marketplace  customer_id       review_id  product_id  product_parent  \\\n",
       "0          US     24371595  R27ZP1F1CD0C3Y  B004LLIL5A       346014806   \n",
       "1          US     42489718   RJ7RSBCHUDNNE  B004LLIKVU       473048287   \n",
       "2          US       861463  R1HVYBSKLQJI5S  B00IX1I3G6       926539283   \n",
       "3          US     25283295  R2HAXF0IIYQBIR  B00IX1I3G6       926539283   \n",
       "4          US       397970   RNYLPX611NB7Q  B005ESMGV4       379368939   \n",
       "\n",
       "                                       product_title product_category  \\\n",
       "0                      Amazon eGift Card - Celebrate        Gift Card   \n",
       "1                             Amazon.com eGift Cards        Gift Card   \n",
       "2                Amazon.com Gift Card Balance Reload        Gift Card   \n",
       "3                Amazon.com Gift Card Balance Reload        Gift Card   \n",
       "4  Amazon.com Gift Cards, Pack of 3 (Various Desi...        Gift Card   \n",
       "\n",
       "   star_rating  helpful_votes  total_votes vine verified_purchase  \\\n",
       "0            5              0            0    N                 Y   \n",
       "1            5              0            0    N                 Y   \n",
       "2            5              0            0    N                 Y   \n",
       "3            1              0            0    N                 Y   \n",
       "4            5              0            0    N                 Y   \n",
       "\n",
       "                                     review_headline  \\\n",
       "0                                         Five Stars   \n",
       "1  Gift card for the greatest selection of items ...   \n",
       "2                                         Five Stars   \n",
       "3                                           One Star   \n",
       "4                                         Five Stars   \n",
       "\n",
       "                                         review_body review_date  \n",
       "0             Great birthday gift for a young adult.  2015-08-31  \n",
       "1  It's an Amazon gift card and with over 9823983...  2015-08-31  \n",
       "2                                               Good  2015-08-31  \n",
       "3                                               Fair  2015-08-31  \n",
       "4  I can't believe how quickly Amazon can get the...  2015-08-31  "
      ]
     },
     "execution_count": 3,
     "metadata": {},
     "output_type": "execute_result"
    }
   ],
   "source": [
    "df.head()"
   ]
  },
  {
   "cell_type": "code",
   "execution_count": 4,
   "metadata": {},
   "outputs": [
    {
     "data": {
      "text/plain": [
       "<matplotlib.axes._subplots.AxesSubplot at 0x7ffa6dd84880>"
      ]
     },
     "execution_count": 4,
     "metadata": {},
     "output_type": "execute_result"
    },
    {
     "data": {
      "image/png": "[encoded data removed]",
      "text/plain": [
       "<Figure size 432x288 with 1 Axes>"
      ]
     },
     "metadata": {},
     "output_type": "display_data"
    }
   ],
   "source": [
    "sns.set_palette(\"summer\")\n",
    "sns.set_style(\"whitegrid\")\n",
    "sns.set_context('talk')\n",
    "plt.title('Distribution Ratings')\n",
    "plt.ylabel('Frequence')\n",
    "sns.distplot(df['star_rating'])"
   ]
  },
  {
   "cell_type": "code",
   "execution_count": 5,
   "metadata": {},
   "outputs": [],
   "source": [
    "df = df.dropna()"
   ]
  },
  {
   "cell_type": "code",
   "execution_count": 6,
   "metadata": {},
   "outputs": [],
   "source": [
    "df['length_review'] = df['review_body'].apply(lambda x: len([i for i in re.split('\\.|\\s|,',x) if i != '']))"
   ]
  },
  {
   "cell_type": "code",
   "execution_count": 7,
   "metadata": {},
   "outputs": [],
   "source": [
    "df['verified_purchase'] = df['verified_purchase'].astype('category')"
   ]
  },
  {
   "cell_type": "code",
   "execution_count": 8,
   "metadata": {},
   "outputs": [],
   "source": [
    "X = df[['verified_purchase', 'length_review']]"
   ]
  },
  {
   "cell_type": "code",
   "execution_count": 9,
   "metadata": {},
   "outputs": [
    {
     "name": "stderr",
     "output_type": "stream",
     "text": [
      "<ipython-input-9-e9033a0e39c4>:1: SettingWithCopyWarning: \n",
      "A value is trying to be set on a copy of a slice from a DataFrame.\n",
      "Try using .loc[row_indexer,col_indexer] = value instead\n",
      "\n",
      "See the caveats in the documentation: https://pandas.pydata.org/pandas-docs/stable/user_guide/indexing.html#returning-a-view-versus-a-copy\n",
      "  X['verified_purchase'] = X['verified_purchase'].apply(lambda x: 1 if x == 'Y' else 0)\n"
     ]
    }
   ],
   "source": [
    "X['verified_purchase'] = X['verified_purchase'].apply(lambda x: 1 if x == 'Y' else 0)"
   ]
  },
  {
   "cell_type": "code",
   "execution_count": 10,
   "metadata": {},
   "outputs": [],
   "source": [
    "y = df['star_rating']"
   ]
  },
  {
   "cell_type": "code",
   "execution_count": 11,
   "metadata": {},
   "outputs": [
    {
     "data": {
      "text/plain": [
       "LinearRegression()"
      ]
     },
     "execution_count": 11,
     "metadata": {},
     "output_type": "execute_result"
    }
   ],
   "source": [
    "model = LinearRegression()\n",
    "model.fit(X,y)"
   ]
  },
  {
   "cell_type": "code",
   "execution_count": 12,
   "metadata": {},
   "outputs": [],
   "source": [
    "results = model.intercept_, model.coef_"
   ]
  },
  {
   "cell_type": "code",
   "execution_count": 13,
   "metadata": {},
   "outputs": [
    {
     "data": {
      "text/plain": [
       "(4.854694632891142, array([ 0.04467618, -0.00674489]))"
      ]
     },
     "execution_count": 13,
     "metadata": {},
     "output_type": "execute_result"
    }
   ],
   "source": [
    "results"
   ]
  },
  {
   "cell_type": "code",
   "execution_count": 14,
   "metadata": {},
   "outputs": [],
   "source": [
    "X_train, X_test, y_train, y_test = train_test_split(X,y, test_size = 0.1, shuffle = False)"
   ]
  },
  {
   "cell_type": "code",
   "execution_count": 15,
   "metadata": {},
   "outputs": [],
   "source": [
    "model_separate = LinearRegression()"
   ]
  },
  {
   "cell_type": "code",
   "execution_count": 16,
   "metadata": {},
   "outputs": [],
   "source": [
    "model_separate.fit(X_train, y_train)\n",
    "y_pred_train = model.predict(X_train)"
   ]
  },
  {
   "cell_type": "code",
   "execution_count": 17,
   "metadata": {},
   "outputs": [],
   "source": [
    "y_pred_test = model_separate.predict(X_test)"
   ]
  },
  {
   "cell_type": "code",
   "execution_count": 18,
   "metadata": {},
   "outputs": [
    {
     "data": {
      "text/plain": [
       "0.6219921476705995"
      ]
     },
     "execution_count": 18,
     "metadata": {},
     "output_type": "execute_result"
    }
   ],
   "source": [
    "MSE(y_pred_train, y_train)"
   ]
  },
  {
   "cell_type": "code",
   "execution_count": 19,
   "metadata": {},
   "outputs": [
    {
     "data": {
      "text/plain": [
       "0.956418127374568"
      ]
     },
     "execution_count": 19,
     "metadata": {},
     "output_type": "execute_result"
    }
   ],
   "source": [
    "MSE(y_pred_test, y_test)"
   ]
  },
  {
   "cell_type": "code",
   "execution_count": 20,
   "metadata": {},
   "outputs": [
    {
     "data": {
      "text/html": [
       "<div>\n",
       "<style scoped>\n",
       "    .dataframe tbody tr th:only-of-type {\n",
       "        vertical-align: middle;\n",
       "    }\n",
       "\n",
       "    .dataframe tbody tr th {\n",
       "        vertical-align: top;\n",
       "    }\n",
       "\n",
       "    .dataframe thead th {\n",
       "        text-align: right;\n",
       "    }\n",
       "</style>\n",
       "<table border=\"1\" class=\"dataframe\">\n",
       "  <thead>\n",
       "    <tr style=\"text-align: right;\">\n",
       "      <th></th>\n",
       "      <th>marketplace</th>\n",
       "      <th>customer_id</th>\n",
       "      <th>review_id</th>\n",
       "      <th>product_id</th>\n",
       "      <th>product_parent</th>\n",
       "      <th>product_title</th>\n",
       "      <th>product_category</th>\n",
       "      <th>star_rating</th>\n",
       "      <th>helpful_votes</th>\n",
       "      <th>total_votes</th>\n",
       "      <th>vine</th>\n",
       "      <th>verified_purchase</th>\n",
       "      <th>review_headline</th>\n",
       "      <th>review_body</th>\n",
       "      <th>review_date</th>\n",
       "      <th>length_review</th>\n",
       "    </tr>\n",
       "  </thead>\n",
       "  <tbody>\n",
       "    <tr>\n",
       "      <th>0</th>\n",
       "      <td>US</td>\n",
       "      <td>24371595</td>\n",
       "      <td>R27ZP1F1CD0C3Y</td>\n",
       "      <td>B004LLIL5A</td>\n",
       "      <td>346014806</td>\n",
       "      <td>Amazon eGift Card - Celebrate</td>\n",
       "      <td>Gift Card</td>\n",
       "      <td>5</td>\n",
       "      <td>0</td>\n",
       "      <td>0</td>\n",
       "      <td>N</td>\n",
       "      <td>Y</td>\n",
       "      <td>Five Stars</td>\n",
       "      <td>Great birthday gift for a young adult.</td>\n",
       "      <td>2015-08-31</td>\n",
       "      <td>7</td>\n",
       "    </tr>\n",
       "    <tr>\n",
       "      <th>1</th>\n",
       "      <td>US</td>\n",
       "      <td>42489718</td>\n",
       "      <td>RJ7RSBCHUDNNE</td>\n",
       "      <td>B004LLIKVU</td>\n",
       "      <td>473048287</td>\n",
       "      <td>Amazon.com eGift Cards</td>\n",
       "      <td>Gift Card</td>\n",
       "      <td>5</td>\n",
       "      <td>0</td>\n",
       "      <td>0</td>\n",
       "      <td>N</td>\n",
       "      <td>Y</td>\n",
       "      <td>Gift card for the greatest selection of items ...</td>\n",
       "      <td>It's an Amazon gift card and with over 9823983...</td>\n",
       "      <td>2015-08-31</td>\n",
       "      <td>19</td>\n",
       "    </tr>\n",
       "    <tr>\n",
       "      <th>2</th>\n",
       "      <td>US</td>\n",
       "      <td>861463</td>\n",
       "      <td>R1HVYBSKLQJI5S</td>\n",
       "      <td>B00IX1I3G6</td>\n",
       "      <td>926539283</td>\n",
       "      <td>Amazon.com Gift Card Balance Reload</td>\n",
       "      <td>Gift Card</td>\n",
       "      <td>5</td>\n",
       "      <td>0</td>\n",
       "      <td>0</td>\n",
       "      <td>N</td>\n",
       "      <td>Y</td>\n",
       "      <td>Five Stars</td>\n",
       "      <td>Good</td>\n",
       "      <td>2015-08-31</td>\n",
       "      <td>1</td>\n",
       "    </tr>\n",
       "    <tr>\n",
       "      <th>3</th>\n",
       "      <td>US</td>\n",
       "      <td>25283295</td>\n",
       "      <td>R2HAXF0IIYQBIR</td>\n",
       "      <td>B00IX1I3G6</td>\n",
       "      <td>926539283</td>\n",
       "      <td>Amazon.com Gift Card Balance Reload</td>\n",
       "      <td>Gift Card</td>\n",
       "      <td>1</td>\n",
       "      <td>0</td>\n",
       "      <td>0</td>\n",
       "      <td>N</td>\n",
       "      <td>Y</td>\n",
       "      <td>One Star</td>\n",
       "      <td>Fair</td>\n",
       "      <td>2015-08-31</td>\n",
       "      <td>1</td>\n",
       "    </tr>\n",
       "    <tr>\n",
       "      <th>4</th>\n",
       "      <td>US</td>\n",
       "      <td>397970</td>\n",
       "      <td>RNYLPX611NB7Q</td>\n",
       "      <td>B005ESMGV4</td>\n",
       "      <td>379368939</td>\n",
       "      <td>Amazon.com Gift Cards, Pack of 3 (Various Desi...</td>\n",
       "      <td>Gift Card</td>\n",
       "      <td>5</td>\n",
       "      <td>0</td>\n",
       "      <td>0</td>\n",
       "      <td>N</td>\n",
       "      <td>Y</td>\n",
       "      <td>Five Stars</td>\n",
       "      <td>I can't believe how quickly Amazon can get the...</td>\n",
       "      <td>2015-08-31</td>\n",
       "      <td>14</td>\n",
       "    </tr>\n",
       "    <tr>\n",
       "      <th>...</th>\n",
       "      <td>...</td>\n",
       "      <td>...</td>\n",
       "      <td>...</td>\n",
       "      <td>...</td>\n",
       "      <td>...</td>\n",
       "      <td>...</td>\n",
       "      <td>...</td>\n",
       "      <td>...</td>\n",
       "      <td>...</td>\n",
       "      <td>...</td>\n",
       "      <td>...</td>\n",
       "      <td>...</td>\n",
       "      <td>...</td>\n",
       "      <td>...</td>\n",
       "      <td>...</td>\n",
       "      <td>...</td>\n",
       "    </tr>\n",
       "    <tr>\n",
       "      <th>148305</th>\n",
       "      <td>US</td>\n",
       "      <td>40383801</td>\n",
       "      <td>R57O26VBSLMP1</td>\n",
       "      <td>B0002CZPPG</td>\n",
       "      <td>867256265</td>\n",
       "      <td>Apple iTunes Prepaid Card ($15)</td>\n",
       "      <td>Gift Card</td>\n",
       "      <td>5</td>\n",
       "      <td>10</td>\n",
       "      <td>10</td>\n",
       "      <td>N</td>\n",
       "      <td>N</td>\n",
       "      <td>Way easier than explaining your musical taste ...</td>\n",
       "      <td>Finally there is a way for your family to buy ...</td>\n",
       "      <td>2005-01-21</td>\n",
       "      <td>49</td>\n",
       "    </tr>\n",
       "    <tr>\n",
       "      <th>148306</th>\n",
       "      <td>US</td>\n",
       "      <td>15124244</td>\n",
       "      <td>R375D634NGSSPI</td>\n",
       "      <td>B0002CZPPG</td>\n",
       "      <td>867256265</td>\n",
       "      <td>Apple iTunes Prepaid Card ($15)</td>\n",
       "      <td>Gift Card</td>\n",
       "      <td>4</td>\n",
       "      <td>8</td>\n",
       "      <td>44</td>\n",
       "      <td>N</td>\n",
       "      <td>N</td>\n",
       "      <td>itunes paid for</td>\n",
       "      <td>its very convenient to have an idea of how mut...</td>\n",
       "      <td>2004-12-17</td>\n",
       "      <td>16</td>\n",
       "    </tr>\n",
       "    <tr>\n",
       "      <th>148307</th>\n",
       "      <td>US</td>\n",
       "      <td>40383801</td>\n",
       "      <td>R2NCVKVC9B7I9C</td>\n",
       "      <td>B0002CZPPG</td>\n",
       "      <td>867256265</td>\n",
       "      <td>Apple iTunes Prepaid Card ($15)</td>\n",
       "      <td>Gift Card</td>\n",
       "      <td>5</td>\n",
       "      <td>20</td>\n",
       "      <td>30</td>\n",
       "      <td>N</td>\n",
       "      <td>N</td>\n",
       "      <td>Way easier than explaining your musical taste ...</td>\n",
       "      <td>Finally there is a way for your family to buy ...</td>\n",
       "      <td>2004-11-30</td>\n",
       "      <td>53</td>\n",
       "    </tr>\n",
       "    <tr>\n",
       "      <th>148308</th>\n",
       "      <td>US</td>\n",
       "      <td>30603398</td>\n",
       "      <td>RC2BIM4XKDCY4</td>\n",
       "      <td>B0002CZPPG</td>\n",
       "      <td>867256265</td>\n",
       "      <td>Apple iTunes Prepaid Card ($15)</td>\n",
       "      <td>Gift Card</td>\n",
       "      <td>4</td>\n",
       "      <td>63</td>\n",
       "      <td>72</td>\n",
       "      <td>N</td>\n",
       "      <td>N</td>\n",
       "      <td>A great way to turn cash into songs</td>\n",
       "      <td>I picked up a few of these at Target a while b...</td>\n",
       "      <td>2004-11-10</td>\n",
       "      <td>49</td>\n",
       "    </tr>\n",
       "    <tr>\n",
       "      <th>148309</th>\n",
       "      <td>US</td>\n",
       "      <td>16262996</td>\n",
       "      <td>RKOEI5NT6A7LL</td>\n",
       "      <td>B0002CZPPG</td>\n",
       "      <td>867256265</td>\n",
       "      <td>Apple iTunes Prepaid Card ($15)</td>\n",
       "      <td>Gift Card</td>\n",
       "      <td>5</td>\n",
       "      <td>26</td>\n",
       "      <td>29</td>\n",
       "      <td>N</td>\n",
       "      <td>N</td>\n",
       "      <td>iTunes Gift Card</td>\n",
       "      <td>This is the ultimate tool for downloading musi...</td>\n",
       "      <td>2004-10-14</td>\n",
       "      <td>114</td>\n",
       "    </tr>\n",
       "  </tbody>\n",
       "</table>\n",
       "<p>148304 rows × 16 columns</p>\n",
       "</div>"
      ],
      "text/plain": [
       "       marketplace  customer_id       review_id  product_id  product_parent  \\\n",
       "0               US     24371595  R27ZP1F1CD0C3Y  B004LLIL5A       346014806   \n",
       "1               US     42489718   RJ7RSBCHUDNNE  B004LLIKVU       473048287   \n",
       "2               US       861463  R1HVYBSKLQJI5S  B00IX1I3G6       926539283   \n",
       "3               US     25283295  R2HAXF0IIYQBIR  B00IX1I3G6       926539283   \n",
       "4               US       397970   RNYLPX611NB7Q  B005ESMGV4       379368939   \n",
       "...            ...          ...             ...         ...             ...   \n",
       "148305          US     40383801   R57O26VBSLMP1  B0002CZPPG       867256265   \n",
       "148306          US     15124244  R375D634NGSSPI  B0002CZPPG       867256265   \n",
       "148307          US     40383801  R2NCVKVC9B7I9C  B0002CZPPG       867256265   \n",
       "148308          US     30603398   RC2BIM4XKDCY4  B0002CZPPG       867256265   \n",
       "148309          US     16262996   RKOEI5NT6A7LL  B0002CZPPG       867256265   \n",
       "\n",
       "                                            product_title product_category  \\\n",
       "0                           Amazon eGift Card - Celebrate        Gift Card   \n",
       "1                                  Amazon.com eGift Cards        Gift Card   \n",
       "2                     Amazon.com Gift Card Balance Reload        Gift Card   \n",
       "3                     Amazon.com Gift Card Balance Reload        Gift Card   \n",
       "4       Amazon.com Gift Cards, Pack of 3 (Various Desi...        Gift Card   \n",
       "...                                                   ...              ...   \n",
       "148305                    Apple iTunes Prepaid Card ($15)        Gift Card   \n",
       "148306                    Apple iTunes Prepaid Card ($15)        Gift Card   \n",
       "148307                    Apple iTunes Prepaid Card ($15)        Gift Card   \n",
       "148308                    Apple iTunes Prepaid Card ($15)        Gift Card   \n",
       "148309                    Apple iTunes Prepaid Card ($15)        Gift Card   \n",
       "\n",
       "        star_rating  helpful_votes  total_votes vine verified_purchase  \\\n",
       "0                 5              0            0    N                 Y   \n",
       "1                 5              0            0    N                 Y   \n",
       "2                 5              0            0    N                 Y   \n",
       "3                 1              0            0    N                 Y   \n",
       "4                 5              0            0    N                 Y   \n",
       "...             ...            ...          ...  ...               ...   \n",
       "148305            5             10           10    N                 N   \n",
       "148306            4              8           44    N                 N   \n",
       "148307            5             20           30    N                 N   \n",
       "148308            4             63           72    N                 N   \n",
       "148309            5             26           29    N                 N   \n",
       "\n",
       "                                          review_headline  \\\n",
       "0                                              Five Stars   \n",
       "1       Gift card for the greatest selection of items ...   \n",
       "2                                              Five Stars   \n",
       "3                                                One Star   \n",
       "4                                              Five Stars   \n",
       "...                                                   ...   \n",
       "148305  Way easier than explaining your musical taste ...   \n",
       "148306                                    itunes paid for   \n",
       "148307  Way easier than explaining your musical taste ...   \n",
       "148308                A great way to turn cash into songs   \n",
       "148309                                   iTunes Gift Card   \n",
       "\n",
       "                                              review_body review_date  \\\n",
       "0                  Great birthday gift for a young adult.  2015-08-31   \n",
       "1       It's an Amazon gift card and with over 9823983...  2015-08-31   \n",
       "2                                                    Good  2015-08-31   \n",
       "3                                                    Fair  2015-08-31   \n",
       "4       I can't believe how quickly Amazon can get the...  2015-08-31   \n",
       "...                                                   ...         ...   \n",
       "148305  Finally there is a way for your family to buy ...  2005-01-21   \n",
       "148306  its very convenient to have an idea of how mut...  2004-12-17   \n",
       "148307  Finally there is a way for your family to buy ...  2004-11-30   \n",
       "148308  I picked up a few of these at Target a while b...  2004-11-10   \n",
       "148309  This is the ultimate tool for downloading musi...  2004-10-14   \n",
       "\n",
       "        length_review  \n",
       "0                   7  \n",
       "1                  19  \n",
       "2                   1  \n",
       "3                   1  \n",
       "4                  14  \n",
       "...               ...  \n",
       "148305             49  \n",
       "148306             16  \n",
       "148307             53  \n",
       "148308             49  \n",
       "148309            114  \n",
       "\n",
       "[148304 rows x 16 columns]"
      ]
     },
     "execution_count": 20,
     "metadata": {},
     "output_type": "execute_result"
    }
   ],
   "source": [
    "df"
   ]
  },
  {
   "cell_type": "code",
   "execution_count": null,
   "metadata": {},
   "outputs": [],
   "source": []
  }
 ],
 "metadata": {
  "kernelspec": {
   "display_name": "Python 3",
   "language": "python",
   "name": "python3"
  },
  "language_info": {
   "codemirror_mode": {
    "name": "ipython",
    "version": 3
   },
   "file_extension": ".py",
   "mimetype": "text/x-python",
   "name": "python",
   "nbconvert_exporter": "python",
   "pygments_lexer": "ipython3",
   "version": "3.8.3"
  }
 },
 "nbformat": 4,
 "nbformat_minor": 4
}

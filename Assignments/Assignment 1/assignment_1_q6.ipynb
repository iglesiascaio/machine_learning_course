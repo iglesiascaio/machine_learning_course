{
 "cells": [
  {
   "cell_type": "code",
   "execution_count": 1,
   "metadata": {},
   "outputs": [],
   "source": [
    "import pandas as pd\n",
    "import numpy as np\n",
    "import seaborn as sns\n",
    "from matplotlib import pyplot as plt\n",
    "from sklearn.linear_model import LinearRegression\n",
    "from sklearn.model_selection import train_test_split\n",
    "from sklearn.metrics import mean_squared_error as MSE\n",
    "from sklearn.preprocessing import PolynomialFeatures\n",
    "import re"
   ]
  },
  {
   "cell_type": "code",
   "execution_count": 2,
   "metadata": {},
   "outputs": [],
   "source": [
    "file_name = './amazon_reviews_us_Gift_Card_v1_00.tsv'\n",
    "df = pd.read_csv(file_name, sep='\\t')"
   ]
  },
  {
   "cell_type": "code",
   "execution_count": 3,
   "metadata": {},
   "outputs": [
    {
     "data": {
      "text/html": [
       "<div>\n",
       "<style scoped>\n",
       "    .dataframe tbody tr th:only-of-type {\n",
       "        vertical-align: middle;\n",
       "    }\n",
       "\n",
       "    .dataframe tbody tr th {\n",
       "        vertical-align: top;\n",
       "    }\n",
       "\n",
       "    .dataframe thead th {\n",
       "        text-align: right;\n",
       "    }\n",
       "</style>\n",
       "<table border=\"1\" class=\"dataframe\">\n",
       "  <thead>\n",
       "    <tr style=\"text-align: right;\">\n",
       "      <th></th>\n",
       "      <th>marketplace</th>\n",
       "      <th>customer_id</th>\n",
       "      <th>review_id</th>\n",
       "      <th>product_id</th>\n",
       "      <th>product_parent</th>\n",
       "      <th>product_title</th>\n",
       "      <th>product_category</th>\n",
       "      <th>star_rating</th>\n",
       "      <th>helpful_votes</th>\n",
       "      <th>total_votes</th>\n",
       "      <th>vine</th>\n",
       "      <th>verified_purchase</th>\n",
       "      <th>review_headline</th>\n",
       "      <th>review_body</th>\n",
       "      <th>review_date</th>\n",
       "    </tr>\n",
       "  </thead>\n",
       "  <tbody>\n",
       "    <tr>\n",
       "      <th>0</th>\n",
       "      <td>US</td>\n",
       "      <td>24371595</td>\n",
       "      <td>R27ZP1F1CD0C3Y</td>\n",
       "      <td>B004LLIL5A</td>\n",
       "      <td>346014806</td>\n",
       "      <td>Amazon eGift Card - Celebrate</td>\n",
       "      <td>Gift Card</td>\n",
       "      <td>5</td>\n",
       "      <td>0</td>\n",
       "      <td>0</td>\n",
       "      <td>N</td>\n",
       "      <td>Y</td>\n",
       "      <td>Five Stars</td>\n",
       "      <td>Great birthday gift for a young adult.</td>\n",
       "      <td>2015-08-31</td>\n",
       "    </tr>\n",
       "    <tr>\n",
       "      <th>1</th>\n",
       "      <td>US</td>\n",
       "      <td>42489718</td>\n",
       "      <td>RJ7RSBCHUDNNE</td>\n",
       "      <td>B004LLIKVU</td>\n",
       "      <td>473048287</td>\n",
       "      <td>Amazon.com eGift Cards</td>\n",
       "      <td>Gift Card</td>\n",
       "      <td>5</td>\n",
       "      <td>0</td>\n",
       "      <td>0</td>\n",
       "      <td>N</td>\n",
       "      <td>Y</td>\n",
       "      <td>Gift card for the greatest selection of items ...</td>\n",
       "      <td>It's an Amazon gift card and with over 9823983...</td>\n",
       "      <td>2015-08-31</td>\n",
       "    </tr>\n",
       "    <tr>\n",
       "      <th>2</th>\n",
       "      <td>US</td>\n",
       "      <td>861463</td>\n",
       "      <td>R1HVYBSKLQJI5S</td>\n",
       "      <td>B00IX1I3G6</td>\n",
       "      <td>926539283</td>\n",
       "      <td>Amazon.com Gift Card Balance Reload</td>\n",
       "      <td>Gift Card</td>\n",
       "      <td>5</td>\n",
       "      <td>0</td>\n",
       "      <td>0</td>\n",
       "      <td>N</td>\n",
       "      <td>Y</td>\n",
       "      <td>Five Stars</td>\n",
       "      <td>Good</td>\n",
       "      <td>2015-08-31</td>\n",
       "    </tr>\n",
       "    <tr>\n",
       "      <th>3</th>\n",
       "      <td>US</td>\n",
       "      <td>25283295</td>\n",
       "      <td>R2HAXF0IIYQBIR</td>\n",
       "      <td>B00IX1I3G6</td>\n",
       "      <td>926539283</td>\n",
       "      <td>Amazon.com Gift Card Balance Reload</td>\n",
       "      <td>Gift Card</td>\n",
       "      <td>1</td>\n",
       "      <td>0</td>\n",
       "      <td>0</td>\n",
       "      <td>N</td>\n",
       "      <td>Y</td>\n",
       "      <td>One Star</td>\n",
       "      <td>Fair</td>\n",
       "      <td>2015-08-31</td>\n",
       "    </tr>\n",
       "    <tr>\n",
       "      <th>4</th>\n",
       "      <td>US</td>\n",
       "      <td>397970</td>\n",
       "      <td>RNYLPX611NB7Q</td>\n",
       "      <td>B005ESMGV4</td>\n",
       "      <td>379368939</td>\n",
       "      <td>Amazon.com Gift Cards, Pack of 3 (Various Desi...</td>\n",
       "      <td>Gift Card</td>\n",
       "      <td>5</td>\n",
       "      <td>0</td>\n",
       "      <td>0</td>\n",
       "      <td>N</td>\n",
       "      <td>Y</td>\n",
       "      <td>Five Stars</td>\n",
       "      <td>I can't believe how quickly Amazon can get the...</td>\n",
       "      <td>2015-08-31</td>\n",
       "    </tr>\n",
       "  </tbody>\n",
       "</table>\n",
       "</div>"
      ],
      "text/plain": [
       "  marketplace  customer_id       review_id  product_id  product_parent  \\\n",
       "0          US     24371595  R27ZP1F1CD0C3Y  B004LLIL5A       346014806   \n",
       "1          US     42489718   RJ7RSBCHUDNNE  B004LLIKVU       473048287   \n",
       "2          US       861463  R1HVYBSKLQJI5S  B00IX1I3G6       926539283   \n",
       "3          US     25283295  R2HAXF0IIYQBIR  B00IX1I3G6       926539283   \n",
       "4          US       397970   RNYLPX611NB7Q  B005ESMGV4       379368939   \n",
       "\n",
       "                                       product_title product_category  \\\n",
       "0                      Amazon eGift Card - Celebrate        Gift Card   \n",
       "1                             Amazon.com eGift Cards        Gift Card   \n",
       "2                Amazon.com Gift Card Balance Reload        Gift Card   \n",
       "3                Amazon.com Gift Card Balance Reload        Gift Card   \n",
       "4  Amazon.com Gift Cards, Pack of 3 (Various Desi...        Gift Card   \n",
       "\n",
       "   star_rating  helpful_votes  total_votes vine verified_purchase  \\\n",
       "0            5              0            0    N                 Y   \n",
       "1            5              0            0    N                 Y   \n",
       "2            5              0            0    N                 Y   \n",
       "3            1              0            0    N                 Y   \n",
       "4            5              0            0    N                 Y   \n",
       "\n",
       "                                     review_headline  \\\n",
       "0                                         Five Stars   \n",
       "1  Gift card for the greatest selection of items ...   \n",
       "2                                         Five Stars   \n",
       "3                                           One Star   \n",
       "4                                         Five Stars   \n",
       "\n",
       "                                         review_body review_date  \n",
       "0             Great birthday gift for a young adult.  2015-08-31  \n",
       "1  It's an Amazon gift card and with over 9823983...  2015-08-31  \n",
       "2                                               Good  2015-08-31  \n",
       "3                                               Fair  2015-08-31  \n",
       "4  I can't believe how quickly Amazon can get the...  2015-08-31  "
      ]
     },
     "execution_count": 3,
     "metadata": {},
     "output_type": "execute_result"
    }
   ],
   "source": [
    "df.head()"
   ]
  },
  {
   "cell_type": "code",
   "execution_count": 4,
   "metadata": {},
   "outputs": [
    {
     "data": {
      "image/png": "[encoded data removed]",
      "text/plain": [
       "<Figure size 432x288 with 1 Axes>"
      ]
     },
     "metadata": {
      "needs_background": "light"
     },
     "output_type": "display_data"
    }
   ],
   "source": [
    "plt.gcf().subplots_adjust(bottom=0.25, left = 0.2)\n",
    "sns.set_palette(\"husl\")\n",
    "sns.set_style(\"whitegrid\")\n",
    "sns.set_context('talk')\n",
    "plt.title('Distribution Ratings')\n",
    "plt.ylabel('Frequence')\n",
    "sns.distplot(df['star_rating'])\n",
    "plt.savefig('dist.jpg')"
   ]
  },
  {
   "cell_type": "code",
   "execution_count": 5,
   "metadata": {},
   "outputs": [],
   "source": [
    "df = df.dropna() #drop nan values"
   ]
  },
  {
   "cell_type": "code",
   "execution_count": 6,
   "metadata": {},
   "outputs": [],
   "source": [
    "df['length_review'] = df['review_body'].apply(\n",
    "    lambda x: len([i for i in re.split('\\.|\\s|,',x) if i != ''])) #calculate length of review_body"
   ]
  },
  {
   "cell_type": "code",
   "execution_count": 7,
   "metadata": {},
   "outputs": [],
   "source": [
    "df['verified_purchase'] = df['verified_purchase'].astype('category')"
   ]
  },
  {
   "cell_type": "code",
   "execution_count": 8,
   "metadata": {},
   "outputs": [],
   "source": [
    "X = df[['verified_purchase', 'length_review']]"
   ]
  },
  {
   "cell_type": "code",
   "execution_count": 9,
   "metadata": {},
   "outputs": [
    {
     "name": "stderr",
     "output_type": "stream",
     "text": [
      "<ipython-input-9-bfd46326b2a6>:1: SettingWithCopyWarning: \n",
      "A value is trying to be set on a copy of a slice from a DataFrame.\n",
      "Try using .loc[row_indexer,col_indexer] = value instead\n",
      "\n",
      "See the caveats in the documentation: https://pandas.pydata.org/pandas-docs/stable/user_guide/indexing.html#returning-a-view-versus-a-copy\n",
      "  X['verified_purchase'] = X['verified_purchase'].apply(lambda x:\n"
     ]
    }
   ],
   "source": [
    "X['verified_purchase'] = X['verified_purchase'].apply(lambda x:\n",
    "                                                      1 if x == 'Y' else 0)"
   ]
  },
  {
   "cell_type": "code",
   "execution_count": 10,
   "metadata": {},
   "outputs": [],
   "source": [
    "y = df['star_rating']"
   ]
  },
  {
   "cell_type": "code",
   "execution_count": 11,
   "metadata": {},
   "outputs": [
    {
     "data": {
      "text/plain": [
       "LinearRegression()"
      ]
     },
     "execution_count": 11,
     "metadata": {},
     "output_type": "execute_result"
    }
   ],
   "source": [
    "model = LinearRegression()\n",
    "model.fit(X,y)"
   ]
  },
  {
   "cell_type": "code",
   "execution_count": 12,
   "metadata": {},
   "outputs": [],
   "source": [
    "results = model.intercept_, model.coef_"
   ]
  },
  {
   "cell_type": "code",
   "execution_count": 13,
   "metadata": {},
   "outputs": [
    {
     "data": {
      "text/plain": [
       "(4.854694632891142, array([ 0.04467618, -0.00674489]))"
      ]
     },
     "execution_count": 13,
     "metadata": {},
     "output_type": "execute_result"
    }
   ],
   "source": [
    "results"
   ]
  },
  {
   "cell_type": "code",
   "execution_count": 14,
   "metadata": {},
   "outputs": [],
   "source": [
    "X_train, X_test, y_train, y_test = train_test_split(\n",
    "                                        X,y, test_size = 0.1,\n",
    "                                        shuffle = False)"
   ]
  },
  {
   "cell_type": "code",
   "execution_count": 15,
   "metadata": {},
   "outputs": [],
   "source": [
    "model_separate = LinearRegression()"
   ]
  },
  {
   "cell_type": "code",
   "execution_count": 16,
   "metadata": {},
   "outputs": [],
   "source": [
    "model_separate.fit(X_train, y_train)\n",
    "y_pred_train = model.predict(X_train)"
   ]
  },
  {
   "cell_type": "code",
   "execution_count": 17,
   "metadata": {},
   "outputs": [],
   "source": [
    "y_pred_test = model_separate.predict(X_test)"
   ]
  },
  {
   "cell_type": "code",
   "execution_count": 18,
   "metadata": {},
   "outputs": [
    {
     "data": {
      "text/plain": [
       "0.6219921476705995"
      ]
     },
     "execution_count": 18,
     "metadata": {},
     "output_type": "execute_result"
    }
   ],
   "source": [
    "MSE(y_pred_train, y_train)"
   ]
  },
  {
   "cell_type": "code",
   "execution_count": 19,
   "metadata": {},
   "outputs": [
    {
     "data": {
      "text/plain": [
       "0.956418127374568"
      ]
     },
     "execution_count": 19,
     "metadata": {},
     "output_type": "execute_result"
    }
   ],
   "source": [
    "MSE(y_pred_test, y_test)"
   ]
  },
  {
   "cell_type": "code",
   "execution_count": 20,
   "metadata": {},
   "outputs": [],
   "source": [
    "X_polynomial = df[['verified_purchase', 'length_review', 'helpful_votes', 'total_votes']]\n",
    "y_polynomial = df['star_rating']"
   ]
  },
  {
   "cell_type": "code",
   "execution_count": 21,
   "metadata": {},
   "outputs": [
    {
     "name": "stderr",
     "output_type": "stream",
     "text": [
      "<ipython-input-21-29bfb4219868>:1: SettingWithCopyWarning: \n",
      "A value is trying to be set on a copy of a slice from a DataFrame.\n",
      "Try using .loc[row_indexer,col_indexer] = value instead\n",
      "\n",
      "See the caveats in the documentation: https://pandas.pydata.org/pandas-docs/stable/user_guide/indexing.html#returning-a-view-versus-a-copy\n",
      "  X_polynomial['verified_purchase'] = X_polynomial['verified_purchase'].apply(lambda x: 1 if x == 'Y' else 0)\n"
     ]
    }
   ],
   "source": [
    "X_polynomial['verified_purchase'] = X_polynomial['verified_purchase'].apply(lambda x: 1 if x == 'Y' else 0)"
   ]
  },
  {
   "cell_type": "code",
   "execution_count": 22,
   "metadata": {},
   "outputs": [],
   "source": [
    "X_train, X_test, y_train, y_test = train_test_split(X_polynomial,y_polynomial, test_size = 0.1, shuffle = False)"
   ]
  },
  {
   "cell_type": "code",
   "execution_count": 27,
   "metadata": {},
   "outputs": [
    {
     "name": "stdout",
     "output_type": "stream",
     "text": [
      "Calculating polynomial with degree = 1\n",
      "Test error: 0.95\n",
      "Train error: 0.61\n",
      "Calculating polynomial with degree = 2\n",
      "Test error: 1.1\n",
      "Train error: 0.59\n",
      "Calculating polynomial with degree = 3\n",
      "Test error: 1.2e+01\n",
      "Train error: 0.58\n"
     ]
    },
    {
     "data": {
      "image/png": "[encoded data removed]",
      "text/plain": [
       "<Figure size 432x288 with 1 Axes>"
      ]
     },
     "metadata": {},
     "output_type": "display_data"
    }
   ],
   "source": [
    "plt.gcf().subplots_adjust(bottom=0.25, left = 0.2)\n",
    "list_errors_train = []\n",
    "list_errors_test = []\n",
    "for i in range (1,4):\n",
    "    print('Calculating polynomial with degree = {}'.format(i))\n",
    "    poly = PolynomialFeatures(i)\n",
    "    model = LinearRegression()\n",
    "    X_train_poly = poly.fit_transform(X_train)\n",
    "    X_test_poly = poly.fit_transform(X_test)\n",
    "    model.fit(X_train_poly, y_train)\n",
    "    y_pred_train = model.predict(X_train_poly)\n",
    "    y_pred_test = model.predict(X_test_poly)\n",
    "    test_error = MSE(y_pred_test,y_test)\n",
    "    train_error = MSE(y_pred_train, y_train)\n",
    "    print('Test error: {:.2}'.format(test_error))\n",
    "    print('Train error: {:.2}'.format(train_error))\n",
    "    list_errors_train.append(train_error)\n",
    "    list_errors_test.append(test_error)\n",
    "    \n",
    "plt.plot(range(1,4), list_errors_train, label = 'train')\n",
    "plt.plot(range(1,4), list_errors_test, label = 'test')\n",
    "plt.title('MSE x Polynomial degree')\n",
    "plt.xlabel('Degree')\n",
    "plt.ylabel('MSE')\n",
    "plt.legend()\n",
    "plt.savefig('MSE.png')"
   ]
  },
  {
   "cell_type": "code",
   "execution_count": 32,
   "metadata": {},
   "outputs": [
    {
     "data": {
      "text/plain": [
       "['1',\n",
       " 'x0',\n",
       " 'x1',\n",
       " 'x2',\n",
       " 'x3',\n",
       " 'x0^2',\n",
       " 'x0 x1',\n",
       " 'x0 x2',\n",
       " 'x0 x3',\n",
       " 'x1^2',\n",
       " 'x1 x2',\n",
       " 'x1 x3',\n",
       " 'x2^2',\n",
       " 'x2 x3',\n",
       " 'x3^2']"
      ]
     },
     "execution_count": 32,
     "metadata": {},
     "output_type": "execute_result"
    }
   ],
   "source": [
    "poly.get_feature_names()"
   ]
  },
  {
   "cell_type": "code",
   "execution_count": 29,
   "metadata": {},
   "outputs": [],
   "source": [
    "poly = PolynomialFeatures(2)"
   ]
  },
  {
   "cell_type": "code",
   "execution_count": 31,
   "metadata": {},
   "outputs": [
    {
     "data": {
      "text/plain": [
       "array([[ 1.,  1.,  7., ...,  0.,  0.,  0.],\n",
       "       [ 1.,  1., 19., ...,  0.,  0.,  0.],\n",
       "       [ 1.,  1.,  1., ...,  0.,  0.,  0.],\n",
       "       ...,\n",
       "       [ 1.,  0., 32., ...,  0.,  0.,  0.],\n",
       "       [ 1.,  0., 40., ...,  0.,  0.,  0.],\n",
       "       [ 1.,  1., 25., ...,  0.,  0.,  0.]])"
      ]
     },
     "execution_count": 31,
     "metadata": {},
     "output_type": "execute_result"
    }
   ],
   "source": [
    "poly.fit_transform(X_train)"
   ]
  },
  {
   "cell_type": "code",
   "execution_count": null,
   "metadata": {},
   "outputs": [],
   "source": []
  }
 ],
 "metadata": {
  "kernelspec": {
   "display_name": "Python 3",
   "language": "python",
   "name": "python3"
  },
  "language_info": {
   "codemirror_mode": {
    "name": "ipython",
    "version": 3
   },
   "file_extension": ".py",
   "mimetype": "text/x-python",
   "name": "python",
   "nbconvert_exporter": "python",
   "pygments_lexer": "ipython3",
   "version": "3.8.3"
  }
 },
 "nbformat": 4,
 "nbformat_minor": 4
}

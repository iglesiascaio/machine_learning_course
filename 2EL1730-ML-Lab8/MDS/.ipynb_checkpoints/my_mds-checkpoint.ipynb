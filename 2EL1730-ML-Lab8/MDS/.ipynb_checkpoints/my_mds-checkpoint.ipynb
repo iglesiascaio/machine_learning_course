{
 "cells": [
  {
   "cell_type": "code",
   "execution_count": null,
   "metadata": {},
   "outputs": [],
   "source": [
    "import numpy as np\n",
    "import matplotlib.pyplot as plt"
   ]
  },
  {
   "cell_type": "code",
   "execution_count": null,
   "metadata": {},
   "outputs": [],
   "source": [
    "# Load the distance matrix\n",
    "D = np.loadtxt('distanceMatrix.csv', delimiter=',')\n",
    "cities = ['Atl', 'Chi', 'Den', 'Hou', 'LA', 'Mia', 'NYC', 'SF', 'Sea', 'WDC']\n",
    "nCities = D.shape[0]  # Get the size of the matrix"
   ]
  },
  {
   "cell_type": "markdown",
   "metadata": {},
   "source": [
    "Select a number of dimensions to keep :"
   ]
  },
  {
   "cell_type": "code",
   "execution_count": null,
   "metadata": {},
   "outputs": [],
   "source": [
    "k = 2  # e.g. we want to keep 2 dimensions"
   ]
  },
  {
   "cell_type": "markdown",
   "metadata": {},
   "source": [
    "## TODO: Implement MDS\n",
    "Instructions: Use MDS to reduce the dimensionality of the datawhile preserving the distances between all pairs of points. \n",
    "\n",
    "Use the steps given in the description of the assignment. \n",
    "    - Initially, calculate matrix J and subsequently, matrix B.\n",
    "    - Perform SVD decomposition of B.\n",
    "    - Calculate new representation.\n",
    "    - Save the new representation in variable X\n"
   ]
  },
  {
   "cell_type": "code",
   "execution_count": null,
   "metadata": {},
   "outputs": [],
   "source": [
    "# YOUR CODE HERE"
   ]
  },
  {
   "cell_type": "code",
   "execution_count": null,
   "metadata": {},
   "outputs": [],
   "source": [
    "# Plot distances in two dimensions\n",
    "fig, axs = plt.subplots(1, 2, figsize=(12, 12))\n",
    "\n",
    "# Plot cities in 2D space\n",
    "axs[0].plot(-X[:, 0], -X[:, 1], 'o')\n",
    "for i in range(len(cities)):\n",
    "    axs[0].text(-X[i, 0], -X[i, 1] + 30, cities[i], color='k', ha='center', va='center')\n",
    "\n",
    "# Plot also a US map\n",
    "im = plt.imread(\"usamap.png\")\n",
    "axs[1].imshow(im, aspect='auto')\n",
    "axs[1].set_title(\"US map\")\n",
    "axs[1].axis('off')"
   ]
  }
 ],
 "metadata": {
  "kernelspec": {
   "display_name": "Python 3",
   "language": "python",
   "name": "python3"
  },
  "language_info": {
   "codemirror_mode": {
    "name": "ipython",
    "version": 3
   },
   "file_extension": ".py",
   "mimetype": "text/x-python",
   "name": "python",
   "nbconvert_exporter": "python",
   "pygments_lexer": "ipython3",
   "version": "3.7.4"
  }
 },
 "nbformat": 4,
 "nbformat_minor": 2
}

{
 "cells": [
  {
   "cell_type": "code",
   "execution_count": null,
   "metadata": {},
   "outputs": [],
   "source": [
    "import numpy as np\n",
    "import pandas as pd\n",
    "import seaborn as sns\n",
    "import matplotlib.pyplot as plt\n",
    "\n",
    "from sklearn.svm import SVC\n",
    "from sklearn.model_selection import train_test_split, GridSearchCV\n",
    "from sklearn import datasets"
   ]
  },
  {
   "cell_type": "code",
   "execution_count": null,
   "metadata": {},
   "outputs": [],
   "source": [
    "np.random.seed(1)"
   ]
  },
  {
   "cell_type": "markdown",
   "metadata": {},
   "source": [
    "Load first dataframe"
   ]
  },
  {
   "cell_type": "code",
   "execution_count": null,
   "metadata": {},
   "outputs": [],
   "source": [
    "data1 = pd.read_pickle('data1.pkl')"
   ]
  },
  {
   "cell_type": "markdown",
   "metadata": {},
   "source": [
    "Plot the data points using `seaborn`"
   ]
  },
  {
   "cell_type": "code",
   "execution_count": null,
   "metadata": {},
   "outputs": [],
   "source": [
    "fig, ax = plt.subplots(figsize=(12, 10))\n",
    "sns.scatterplot(data=data1, x='f1', y='f2', hue='label', ax=ax)"
   ]
  },
  {
   "cell_type": "markdown",
   "metadata": {},
   "source": [
    "Split data into feature and labels : "
   ]
  },
  {
   "cell_type": "code",
   "execution_count": null,
   "metadata": {},
   "outputs": [],
   "source": [
    "X1 = data1[['f1', 'f2']].values\n",
    "y1 = data1['label'].values"
   ]
  },
  {
   "cell_type": "markdown",
   "metadata": {},
   "source": [
    "Train a classifier to learn the separation : "
   ]
  },
  {
   "cell_type": "code",
   "execution_count": null,
   "metadata": {},
   "outputs": [],
   "source": [
    "svc_linear = SVC(kernel='linear').fit(X1, y1)"
   ]
  },
  {
   "cell_type": "markdown",
   "metadata": {},
   "source": [
    "Plot decision boundary"
   ]
  },
  {
   "cell_type": "code",
   "execution_count": null,
   "metadata": {},
   "outputs": [],
   "source": [
    "fig, ax = plt.subplots(figsize=(12, 10))\n",
    "\n",
    "x_min = X1[:, 0].min()\n",
    "x_max = X1[:, 0].max()\n",
    "y_min = X1[:, 1].min()\n",
    "y_max = X1[:, 1].max()\n",
    "\n",
    "XX, YY = np.mgrid[x_min:x_max:300j, y_min:y_max:300j]\n",
    "Z = svc_linear.decision_function(np.c_[XX.ravel(), YY.ravel()])\n",
    "\n",
    "Z = Z.reshape(XX.shape)\n",
    "ax.pcolormesh(XX, YY, Z > 0, cmap=plt.cm.Paired)\n",
    "sns.scatterplot(data=data1, x='f1', y='f2', hue='label', ax=ax)"
   ]
  },
  {
   "cell_type": "markdown",
   "metadata": {},
   "source": [
    "We do the same for the second dataset"
   ]
  },
  {
   "cell_type": "code",
   "execution_count": null,
   "metadata": {},
   "outputs": [],
   "source": [
    "data2 = pd.read_pickle('data2.pkl')\n",
    "\n",
    "X2 = data2[['f1', 'f2']].values\n",
    "y2 = data2['label'].values"
   ]
  },
  {
   "cell_type": "code",
   "execution_count": null,
   "metadata": {},
   "outputs": [],
   "source": [
    "fig, ax = plt.subplots(figsize=(12, 10))\n",
    "sns.scatterplot(data=data2, x='f1', y='f2', hue='label', ax=ax)"
   ]
  },
  {
   "cell_type": "code",
   "execution_count": null,
   "metadata": {},
   "outputs": [],
   "source": [
    "svc_gaussian = SVC(kernel='rbf', gamma='scale').fit(X2, y2)"
   ]
  },
  {
   "cell_type": "code",
   "execution_count": null,
   "metadata": {},
   "outputs": [],
   "source": [
    "fig, ax = plt.subplots(figsize=(12, 10))\n",
    "\n",
    "x_min = X2[:, 0].min()\n",
    "x_max = X2[:, 0].max()\n",
    "y_min = X2[:, 1].min()\n",
    "y_max = X2[:, 1].max()\n",
    "\n",
    "XX, YY = np.mgrid[x_min:x_max:300j, y_min:y_max:300j]\n",
    "Z = svc_gaussian.decision_function(np.c_[XX.ravel(), YY.ravel()])\n",
    "\n",
    "Z = Z.reshape(XX.shape)\n",
    "ax.pcolormesh(XX, YY, Z > 0, cmap=plt.cm.Paired)\n",
    "sns.scatterplot(data=data2, x='f1', y='f2', hue='label', ax=ax)"
   ]
  },
  {
   "cell_type": "markdown",
   "metadata": {},
   "source": [
    "A walk through explanation of Grid Search with the IRIS dataset"
   ]
  },
  {
   "cell_type": "code",
   "execution_count": null,
   "metadata": {},
   "outputs": [],
   "source": [
    "iris = datasets.load_iris()\n",
    "X = iris['data']\n",
    "y = iris['target']\n",
    "\n",
    "X_train, X_test, y_train, y_test = train_test_split(X, y)"
   ]
  },
  {
   "cell_type": "code",
   "execution_count": null,
   "metadata": {},
   "outputs": [],
   "source": [
    "kernels = ['linear', 'rbf', 'sigmoid']\n",
    "for kernel in kernels:\n",
    "    scores = []\n",
    "    for i in range(4):\n",
    "        # We split the training data to have validation data\n",
    "        idx_test = range(28*i, 28*(i+1))\n",
    "        idx_train = [i for i in range(112) if i not in idx_test]\n",
    "        X_cv_train = X_train[idx_train]\n",
    "        X_cv_test = X_train[idx_test]\n",
    "        y_cv_train = y_train[idx_train]\n",
    "        y_cv_test = y_train[idx_test]\n",
    "        classifier = SVC(C=10, kernel=kernel, gamma='scale', ).fit(X_cv_train, y_cv_train)\n",
    "        scores.append(classifier.score(X_cv_test, y_cv_test))\n",
    "    print(kernel, np.mean(scores))"
   ]
  },
  {
   "cell_type": "code",
   "execution_count": null,
   "metadata": {},
   "outputs": [],
   "source": [
    "from sklearn.model_selection import GridSearchCV"
   ]
  },
  {
   "cell_type": "code",
   "execution_count": null,
   "metadata": {},
   "outputs": [],
   "source": [
    "parameters = {'kernel':('linear', 'rbf', 'sigmoid')}\n",
    "svc = SVC(gamma=\"scale\", C=10)\n",
    "clf = GridSearchCV(svc, parameters, cv=4, iid=False)\n",
    "clf.fit(X_train, y_train)"
   ]
  },
  {
   "cell_type": "code",
   "execution_count": null,
   "metadata": {},
   "outputs": [],
   "source": [
    "print(clf.best_estimator_)"
   ]
  },
  {
   "cell_type": "markdown",
   "metadata": {},
   "source": [
    "We retrieve the same result"
   ]
  },
  {
   "cell_type": "markdown",
   "metadata": {},
   "source": [
    "We can check the score for the test data : "
   ]
  },
  {
   "cell_type": "code",
   "execution_count": null,
   "metadata": {},
   "outputs": [],
   "source": [
    "clf.score(X_test, y_test)"
   ]
  }
 ],
 "metadata": {
  "kernelspec": {
   "display_name": "Python 3",
   "language": "python",
   "name": "python3"
  },
  "language_info": {
   "codemirror_mode": {
    "name": "ipython",
    "version": 3
   },
   "file_extension": ".py",
   "mimetype": "text/x-python",
   "name": "python",
   "nbconvert_exporter": "python",
   "pygments_lexer": "ipython3",
   "version": "3.6.7"
  }
 },
 "nbformat": 4,
 "nbformat_minor": 2
}

{
 "cells": [
  {
   "cell_type": "code",
   "execution_count": 43,
   "metadata": {},
   "outputs": [],
   "source": [
    "import numpy as np\n",
    "import scipy.linalg as linalg\n",
    "import matplotlib.pyplot as plt"
   ]
  },
  {
   "cell_type": "code",
   "execution_count": 44,
   "metadata": {},
   "outputs": [],
   "source": [
    "# random seed for reproducible results\n",
    "np.random.seed(123)"
   ]
  },
  {
   "cell_type": "code",
   "execution_count": 45,
   "metadata": {},
   "outputs": [],
   "source": [
    "my_data = np.genfromtxt('wine_data.csv', delimiter=',')\n",
    "n_train = 100\n",
    "\n",
    "np.random.shuffle(my_data)  # shuffle datataset\n",
    "trainingData = my_data[:n_train, 1:]  # training data\n",
    "trainingLabels = my_data[:n_train, 0]  # class labels of training data\n",
    "\n",
    "testData = my_data[n_train:, 1:]  # training data\n",
    "testLabels = my_data[n_train:, 0]  # class labels of training data"
   ]
  },
  {
   "cell_type": "code",
   "execution_count": 46,
   "metadata": {},
   "outputs": [],
   "source": [
    "def my_LDA(X, Y):\n",
    "    \"\"\"\n",
    "    Train a LDA classifier from the training set\n",
    "    X: training data\n",
    "    Y: class labels of training data\n",
    "\n",
    "    \"\"\"    \n",
    "    classLabels = np.unique(Y)  # different class labels on the dataset\n",
    "    print(classLabels)\n",
    "    classNum = len(classLabels)\n",
    "    datanum, dim = X.shape  # dimensions of the dataset\n",
    "    totalMean = np.mean(X, 0)  # total mean of the data\n",
    "\n",
    "    # ====================== YOUR CODE HERE ======================\n",
    "    # Instructions: Implement the LDA technique, following the\n",
    "    # steps given in the pseudocode on the assignment.\n",
    "    # The function should return the projection matrix W,\n",
    "    # the centroid vector for each class projected to the new\n",
    "    # space defined by W and the projected data X_lda.\n",
    "    \n",
    "    #computing within class scatter matrix\n",
    "    \n",
    "    scatter_within_matrix = np.zeros((dim,dim))\n",
    "    list_mean_centroids = []\n",
    "    list_nj = []\n",
    "    for k in classLabels:\n",
    "        scatter_within_matrix += np.cov(X[np.where(Y == k)], \n",
    "                                        rowvar = False)\n",
    "        list_mean_centroids.append(np.mean(X[np.where(Y == k)], axis = 0))\n",
    "        list_nj.append(sum(Y == k))\n",
    "        \n",
    "    print(list_mean_centroids[0].shape)\n",
    "    \n",
    "        \n",
    "    \n",
    "    scatter_between_matrix = np.cov(X, rowvar = False) - scatter_within_matrix\n",
    "    inverse_scatter_within =  np.linalg.inv(scatter_within_matrix)\n",
    "    results = linalg.eig(np.matmul(inverse_scatter_within,\n",
    "                                   scatter_between_matrix))\n",
    "    \n",
    "    index = np.argsort(np.abs(results[0]))[-classNum+1:]\n",
    "    W = results[1].T[index].T\n",
    "    \n",
    "    X_lda = np.dot(X, W)\n",
    "    \n",
    "    projected_centroid = np.dot(list_mean_centroids, W)\n",
    "    \n",
    "\n",
    "    # =============================================================\n",
    "\n",
    "    return W, projected_centroid, X_lda"
   ]
  },
  {
   "cell_type": "code",
   "execution_count": 47,
   "metadata": {},
   "outputs": [
    {
     "name": "stdout",
     "output_type": "stream",
     "text": [
      "[1. 2. 3.]\n",
      "(13,)\n"
     ]
    }
   ],
   "source": [
    "# training LDA classifier\n",
    "W, projected_centroid, X_lda = my_LDA(trainingData, trainingLabels)"
   ]
  },
  {
   "cell_type": "code",
   "execution_count": 48,
   "metadata": {},
   "outputs": [
    {
     "data": {
      "text/plain": [
       "<matplotlib.collections.PathCollection at 0x7f8a8a30f970>"
      ]
     },
     "execution_count": 48,
     "metadata": {},
     "output_type": "execute_result"
    },
    {
     "data": {
      "image/png": "[encoded data removed]",
      "text/plain": [
       "<Figure size 432x288 with 1 Axes>"
      ]
     },
     "metadata": {
      "needs_background": "light"
     },
     "output_type": "display_data"
    }
   ],
   "source": [
    "plt.scatter(projected_centroid[:,0], \n",
    "            projected_centroid[:,1])\n",
    "plt.scatter(X_lda[np.where(trainingLabels == 1)][:,0],\n",
    "            X_lda[np.where(trainingLabels == 1)][:,1])\n",
    "plt.scatter(X_lda[np.where(trainingLabels == 2)][:,0],\n",
    "            X_lda[np.where(trainingLabels == 2)][:,1])\n",
    "plt.scatter(X_lda[np.where(trainingLabels == 3)][:,0],\n",
    "            X_lda[np.where(trainingLabels == 3)][:,1])"
   ]
  },
  {
   "cell_type": "code",
   "execution_count": 49,
   "metadata": {},
   "outputs": [],
   "source": [
    "def predict(X, projected_centroid, W):\n",
    "    \"\"\"Apply the trained LDA classifier on the test data\n",
    "    X: test data\n",
    "    projected_centroid: centroid vectors of each class projected to the new space\n",
    "    W: projection matrix computed by LDA\n",
    "    \"\"\"\n",
    "\n",
    "    # Project test data onto the LDA space defined by W\n",
    "    projected_data = np.dot(X, W)\n",
    "\n",
    "    # ====================== YOUR CODE HERE ======================\n",
    "    # Instructions: Fill in the code to implement the classification\n",
    "    # part of LDA. Follow the steps given in the assigment.\n",
    "    \n",
    "    #print(projected_data)\n",
    "    label = []\n",
    "    for element in projected_data:\n",
    "        min_distance = np.inf\n",
    "        min_index = np.nan\n",
    "        for i, centroid in enumerate(projected_centroid):\n",
    "            current_dist = np.linalg.norm(element - centroid)\n",
    "            if current_dist < min_distance:\n",
    "                min_distance = current_dist\n",
    "                min_index = i\n",
    "        \n",
    "        label.append(min_index+1)\n",
    "    \n",
    "\n",
    "    # =============================================================\n",
    "\n",
    "    # Return the predicted labels of the test data X\n",
    "    return np.array(label)"
   ]
  },
  {
   "cell_type": "code",
   "execution_count": 50,
   "metadata": {},
   "outputs": [
    {
     "name": "stdout",
     "output_type": "stream",
     "text": [
      "Accuracy of LDA: 97.435897\n"
     ]
    }
   ],
   "source": [
    "# Perform predictions for the test data\n",
    "predictedLabels = predict(testData, projected_centroid, W)\n",
    "# predictedLabels = predictedLabels+1\n",
    "\n",
    "\n",
    "# Compute accuracy\n",
    "counter = 0\n",
    "for i in range(predictedLabels.size):\n",
    "    if predictedLabels[i] == testLabels[i]:\n",
    "        counter += 1\n",
    "print('Accuracy of LDA: %f' % (counter / float(predictedLabels.size) * 100.0))"
   ]
  },
  {
   "cell_type": "code",
   "execution_count": null,
   "metadata": {},
   "outputs": [],
   "source": []
  },
  {
   "cell_type": "code",
   "execution_count": null,
   "metadata": {},
   "outputs": [],
   "source": []
  }
 ],
 "metadata": {
  "kernelspec": {
   "display_name": "Python 3",
   "language": "python",
   "name": "python3"
  },
  "language_info": {
   "codemirror_mode": {
    "name": "ipython",
    "version": 3
   },
   "file_extension": ".py",
   "mimetype": "text/x-python",
   "name": "python",
   "nbconvert_exporter": "python",
   "pygments_lexer": "ipython3",
   "version": "3.8.3"
  }
 },
 "nbformat": 4,
 "nbformat_minor": 2
}

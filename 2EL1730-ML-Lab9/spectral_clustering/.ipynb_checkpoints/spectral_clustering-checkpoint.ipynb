{
 "cells": [
  {
   "cell_type": "code",
   "execution_count": null,
   "metadata": {},
   "outputs": [],
   "source": [
    "import numpy as np\n",
    "import matplotlib.pyplot as plt\n",
    "from scipy.cluster.vq import kmeans2\n",
    "from generateData import generateData\n",
    "from sklearn import cluster, datasets\n",
    "from sklearn.preprocessing import StandardScaler\n",
    "from random import randrange"
   ]
  },
  {
   "cell_type": "code",
   "execution_count": null,
   "metadata": {},
   "outputs": [],
   "source": [
    "# Generate data\n",
    "data = generateData()\n",
    "\n",
    "# Plot data\n",
    "plt.figure(1)\n",
    "plt.scatter(data[:,0], data[:,1])  \n",
    "plt.xlabel('x1')  \n",
    "plt.ylabel('x2')  \n",
    "plt.ylim(-6, 6)  \n",
    "plt.xlim(-6, 6) \n",
    "plt.show()"
   ]
  },
  {
   "cell_type": "code",
   "execution_count": null,
   "metadata": {},
   "outputs": [],
   "source": [
    "def simpleInitialization(X,k):\n",
    "    # Initialize k centroids randomly\n",
    "    centroidIndices = []\n",
    "    for i in range(k):\n",
    "        r = randrange(X.shape[0])\n",
    "        while r in centroidIndices:\n",
    "            r = randrange(X.shape[0])\n",
    "        centroidIndices.append(r)\n",
    "        \n",
    "    centroids = np.zeros((k,X.shape[1]))\n",
    "    for i in range(k):\n",
    "        centroids[i,:] = X[centroidIndices[i],:]\n",
    "        \n",
    "    return centroids\n",
    "\n",
    "def kmeans(X, k):\n",
    "    # Copy your kmeans algo from previously\n",
    "    return"
   ]
  },
  {
   "cell_type": "code",
   "execution_count": null,
   "metadata": {},
   "outputs": [],
   "source": [
    "# Number of clusters\n",
    "k = 3\n",
    "\n",
    "# Cluster using kmeans\n",
    "labels = kmeans(data, k)\n",
    "\n",
    "# Plot clustering produced by kmeans\n",
    "plt.figure(2)\n",
    "plt.scatter(data[:,0], data[:,1], c=labels, facecolors=\"none\") \n",
    "plt.xlabel('x1')  \n",
    "plt.ylabel('x2') \n",
    "plt.title('Clustering by k-means algorithm')\n",
    "plt.ylim(-6, 6)  \n",
    "plt.xlim(-6, 6) \n",
    "plt.show()"
   ]
  },
  {
   "cell_type": "code",
   "execution_count": null,
   "metadata": {},
   "outputs": [],
   "source": [
    "def findClosestNeighbours(data, N):\n",
    "    \n",
    "    closestNeighbours = np.zeros((data.shape[0], N))\n",
    "    distances = np.zeros(data.shape[0])\n",
    "\n",
    "    for i in range(data.shape[0]):\n",
    "        for j in range(data.shape[0]):\n",
    "            if i != j:\n",
    "                distances[j] = np.linalg.norm(data[i,:] - data[j,:])    \n",
    "            else:\n",
    "                distances[j] = 0\n",
    "                \n",
    "        closestNeighbours[i,:] = np.argsort(distances)[:N]\n",
    "    \n",
    "    return closestNeighbours"
   ]
  },
  {
   "cell_type": "code",
   "execution_count": null,
   "metadata": {},
   "outputs": [],
   "source": [
    "def spectralClustering(W, k):\n",
    "\n",
    "    # ====================== ADD YOUR CODE HERE ======================\n",
    "    # Instructions: Perform spectral clustering to partition the \n",
    "    #               data into k clusters. Implement the steps that\n",
    "    #               are described in Algorithm 2 on the assignment.    \n",
    "    \n",
    "    \n",
    "    \n",
    "    \n",
    "    # =============================================================\n",
    "    return labels"
   ]
  },
  {
   "cell_type": "code",
   "execution_count": null,
   "metadata": {},
   "outputs": [],
   "source": [
    "# Find N closest neighbours of each data point\n",
    "N = 10\n",
    "closestNeighbours = findClosestNeighbours(data, N)\n",
    "\n",
    "# Create adjacency matrix\n",
    "W = np.zeros((data.shape[0], data.shape[0]))\n",
    "for i in range(data.shape[0]):\n",
    "    for j in range(N):\n",
    "        W[i,int(closestNeighbours[i,j])] = 1\n",
    "        W[int(closestNeighbours[i,j]),i] = 1\n",
    "        \n",
    "\n",
    "# Perform spectral clustering\n",
    "labels = spectralClustering(W, k)  \n",
    "\n",
    "# Plot clustering produced by spectral clustering\n",
    "plt.figure(3)\n",
    "plt.scatter(data[:,0], data[:,1], c=labels, facecolors=\"none\") \n",
    "plt.xlabel('x1')  \n",
    "plt.ylabel('x2')\n",
    "plt.title('Clustering by Spectral Clustering algorithm')\n",
    "plt.ylim(-6, 6)  \n",
    "plt.xlim(-6, 6) \n",
    "plt.show()\n",
    "\n",
    " "
   ]
  }
 ],
 "metadata": {
  "kernelspec": {
   "display_name": "Python 3",
   "language": "python",
   "name": "python3"
  },
  "language_info": {
   "codemirror_mode": {
    "name": "ipython",
    "version": 3
   },
   "file_extension": ".py",
   "mimetype": "text/x-python",
   "name": "python",
   "nbconvert_exporter": "python",
   "pygments_lexer": "ipython3",
   "version": "3.7.4"
  }
 },
 "nbformat": 4,
 "nbformat_minor": 2
}

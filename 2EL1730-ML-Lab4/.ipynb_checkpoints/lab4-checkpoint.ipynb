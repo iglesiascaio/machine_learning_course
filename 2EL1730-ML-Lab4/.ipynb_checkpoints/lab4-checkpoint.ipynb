{
 "cells": [
  {
   "cell_type": "code",
   "execution_count": 1,
   "metadata": {},
   "outputs": [],
   "source": [
    "# coding: utf-8\n",
    "\n",
    "# https://www.python.org/dev/peps/pep-0008#introduction<BR>\n",
    "# http://scikit-learn.org/<BR>\n",
    "# http://pandas.pydata.org/<BR>\n",
    "\n",
    "#%%\n",
    "import numpy as np\n",
    "import pandas as pd\n",
    "import pylab as plt"
   ]
  },
  {
   "cell_type": "code",
   "execution_count": 2,
   "metadata": {},
   "outputs": [
    {
     "name": "stdout",
     "output_type": "stream",
     "text": [
      "Size of the data:  (15120, 56)\n"
     ]
    }
   ],
   "source": [
    "### Fetch the data and load it in pandas\n",
    "data = pd.read_csv('train.csv')\n",
    "print(\"Size of the data: \", data.shape)\n",
    "\n",
    "#%%\n",
    "# See data (five rows) using pandas tools\n",
    "#print data.head(2)"
   ]
  },
  {
   "cell_type": "code",
   "execution_count": 3,
   "metadata": {},
   "outputs": [
    {
     "data": {
      "text/html": [
       "<div>\n",
       "<style scoped>\n",
       "    .dataframe tbody tr th:only-of-type {\n",
       "        vertical-align: middle;\n",
       "    }\n",
       "\n",
       "    .dataframe tbody tr th {\n",
       "        vertical-align: top;\n",
       "    }\n",
       "\n",
       "    .dataframe thead th {\n",
       "        text-align: right;\n",
       "    }\n",
       "</style>\n",
       "<table border=\"1\" class=\"dataframe\">\n",
       "  <thead>\n",
       "    <tr style=\"text-align: right;\">\n",
       "      <th></th>\n",
       "      <th>Id</th>\n",
       "      <th>Elevation</th>\n",
       "      <th>Aspect</th>\n",
       "      <th>Slope</th>\n",
       "      <th>Horizontal_Distance_To_Hydrology</th>\n",
       "      <th>Vertical_Distance_To_Hydrology</th>\n",
       "      <th>Horizontal_Distance_To_Roadways</th>\n",
       "      <th>Hillshade_9am</th>\n",
       "      <th>Hillshade_Noon</th>\n",
       "      <th>Hillshade_3pm</th>\n",
       "      <th>...</th>\n",
       "      <th>Soil_Type32</th>\n",
       "      <th>Soil_Type33</th>\n",
       "      <th>Soil_Type34</th>\n",
       "      <th>Soil_Type35</th>\n",
       "      <th>Soil_Type36</th>\n",
       "      <th>Soil_Type37</th>\n",
       "      <th>Soil_Type38</th>\n",
       "      <th>Soil_Type39</th>\n",
       "      <th>Soil_Type40</th>\n",
       "      <th>Cover_Type</th>\n",
       "    </tr>\n",
       "  </thead>\n",
       "  <tbody>\n",
       "    <tr>\n",
       "      <th>0</th>\n",
       "      <td>1</td>\n",
       "      <td>2596</td>\n",
       "      <td>51</td>\n",
       "      <td>3</td>\n",
       "      <td>258</td>\n",
       "      <td>0</td>\n",
       "      <td>510</td>\n",
       "      <td>221</td>\n",
       "      <td>232</td>\n",
       "      <td>148</td>\n",
       "      <td>...</td>\n",
       "      <td>0</td>\n",
       "      <td>0</td>\n",
       "      <td>0</td>\n",
       "      <td>0</td>\n",
       "      <td>0</td>\n",
       "      <td>0</td>\n",
       "      <td>0</td>\n",
       "      <td>0</td>\n",
       "      <td>0</td>\n",
       "      <td>5</td>\n",
       "    </tr>\n",
       "    <tr>\n",
       "      <th>1</th>\n",
       "      <td>2</td>\n",
       "      <td>2590</td>\n",
       "      <td>56</td>\n",
       "      <td>2</td>\n",
       "      <td>212</td>\n",
       "      <td>-6</td>\n",
       "      <td>390</td>\n",
       "      <td>220</td>\n",
       "      <td>235</td>\n",
       "      <td>151</td>\n",
       "      <td>...</td>\n",
       "      <td>0</td>\n",
       "      <td>0</td>\n",
       "      <td>0</td>\n",
       "      <td>0</td>\n",
       "      <td>0</td>\n",
       "      <td>0</td>\n",
       "      <td>0</td>\n",
       "      <td>0</td>\n",
       "      <td>0</td>\n",
       "      <td>5</td>\n",
       "    </tr>\n",
       "    <tr>\n",
       "      <th>2</th>\n",
       "      <td>3</td>\n",
       "      <td>2804</td>\n",
       "      <td>139</td>\n",
       "      <td>9</td>\n",
       "      <td>268</td>\n",
       "      <td>65</td>\n",
       "      <td>3180</td>\n",
       "      <td>234</td>\n",
       "      <td>238</td>\n",
       "      <td>135</td>\n",
       "      <td>...</td>\n",
       "      <td>0</td>\n",
       "      <td>0</td>\n",
       "      <td>0</td>\n",
       "      <td>0</td>\n",
       "      <td>0</td>\n",
       "      <td>0</td>\n",
       "      <td>0</td>\n",
       "      <td>0</td>\n",
       "      <td>0</td>\n",
       "      <td>2</td>\n",
       "    </tr>\n",
       "    <tr>\n",
       "      <th>3</th>\n",
       "      <td>4</td>\n",
       "      <td>2785</td>\n",
       "      <td>155</td>\n",
       "      <td>18</td>\n",
       "      <td>242</td>\n",
       "      <td>118</td>\n",
       "      <td>3090</td>\n",
       "      <td>238</td>\n",
       "      <td>238</td>\n",
       "      <td>122</td>\n",
       "      <td>...</td>\n",
       "      <td>0</td>\n",
       "      <td>0</td>\n",
       "      <td>0</td>\n",
       "      <td>0</td>\n",
       "      <td>0</td>\n",
       "      <td>0</td>\n",
       "      <td>0</td>\n",
       "      <td>0</td>\n",
       "      <td>0</td>\n",
       "      <td>2</td>\n",
       "    </tr>\n",
       "    <tr>\n",
       "      <th>4</th>\n",
       "      <td>5</td>\n",
       "      <td>2595</td>\n",
       "      <td>45</td>\n",
       "      <td>2</td>\n",
       "      <td>153</td>\n",
       "      <td>-1</td>\n",
       "      <td>391</td>\n",
       "      <td>220</td>\n",
       "      <td>234</td>\n",
       "      <td>150</td>\n",
       "      <td>...</td>\n",
       "      <td>0</td>\n",
       "      <td>0</td>\n",
       "      <td>0</td>\n",
       "      <td>0</td>\n",
       "      <td>0</td>\n",
       "      <td>0</td>\n",
       "      <td>0</td>\n",
       "      <td>0</td>\n",
       "      <td>0</td>\n",
       "      <td>5</td>\n",
       "    </tr>\n",
       "  </tbody>\n",
       "</table>\n",
       "<p>5 rows × 56 columns</p>\n",
       "</div>"
      ],
      "text/plain": [
       "   Id  Elevation  Aspect  Slope  Horizontal_Distance_To_Hydrology  \\\n",
       "0   1       2596      51      3                               258   \n",
       "1   2       2590      56      2                               212   \n",
       "2   3       2804     139      9                               268   \n",
       "3   4       2785     155     18                               242   \n",
       "4   5       2595      45      2                               153   \n",
       "\n",
       "   Vertical_Distance_To_Hydrology  Horizontal_Distance_To_Roadways  \\\n",
       "0                               0                              510   \n",
       "1                              -6                              390   \n",
       "2                              65                             3180   \n",
       "3                             118                             3090   \n",
       "4                              -1                              391   \n",
       "\n",
       "   Hillshade_9am  Hillshade_Noon  Hillshade_3pm  ...  Soil_Type32  \\\n",
       "0            221             232            148  ...            0   \n",
       "1            220             235            151  ...            0   \n",
       "2            234             238            135  ...            0   \n",
       "3            238             238            122  ...            0   \n",
       "4            220             234            150  ...            0   \n",
       "\n",
       "   Soil_Type33  Soil_Type34  Soil_Type35  Soil_Type36  Soil_Type37  \\\n",
       "0            0            0            0            0            0   \n",
       "1            0            0            0            0            0   \n",
       "2            0            0            0            0            0   \n",
       "3            0            0            0            0            0   \n",
       "4            0            0            0            0            0   \n",
       "\n",
       "   Soil_Type38  Soil_Type39  Soil_Type40  Cover_Type  \n",
       "0            0            0            0           5  \n",
       "1            0            0            0           5  \n",
       "2            0            0            0           2  \n",
       "3            0            0            0           2  \n",
       "4            0            0            0           5  \n",
       "\n",
       "[5 rows x 56 columns]"
      ]
     },
     "execution_count": 3,
     "metadata": {},
     "output_type": "execute_result"
    }
   ],
   "source": [
    "data.head()"
   ]
  },
  {
   "cell_type": "code",
   "execution_count": 4,
   "metadata": {},
   "outputs": [
    {
     "name": "stdout",
     "output_type": "stream",
     "text": [
      "[1 2]\n"
     ]
    }
   ],
   "source": [
    "### Prepare input to scikit and train and test cut\n",
    "\n",
    "binary_data = data[np.logical_or(data['Cover_Type'] == 1, data['Cover_Type'] == 2)] # two-class classification set\n",
    "X = binary_data.drop('Cover_Type', axis=1).values\n",
    "y = binary_data['Cover_Type'].values\n",
    "print(np.unique(y))\n",
    "y = 2 * y - 3 # converting labels from [1,2] to [-1,1]"
   ]
  },
  {
   "cell_type": "code",
   "execution_count": 9,
   "metadata": {},
   "outputs": [
    {
     "data": {
      "text/plain": [
       "array([1, 1, 1, ..., 1, 1, 1])"
      ]
     },
     "execution_count": 9,
     "metadata": {},
     "output_type": "execute_result"
    }
   ],
   "source": [
    "y"
   ]
  },
  {
   "cell_type": "code",
   "execution_count": 10,
   "metadata": {},
   "outputs": [],
   "source": [
    "#%%\n",
    "# Import cross validation tools from scikit\n",
    "from sklearn.model_selection import train_test_split\n",
    "\n",
    "X_train, X_test, y_train, y_test = train_test_split(X, y, test_size=0.2, random_state=None)"
   ]
  },
  {
   "cell_type": "code",
   "execution_count": 11,
   "metadata": {},
   "outputs": [
    {
     "data": {
      "text/plain": [
       "DecisionTreeClassifier(max_depth=8)"
      ]
     },
     "execution_count": 11,
     "metadata": {},
     "output_type": "execute_result"
    }
   ],
   "source": [
    "#%%\n",
    "### Train a single decision tree\n",
    "from sklearn.tree import DecisionTreeClassifier\n",
    "clf = DecisionTreeClassifier(max_depth=8)\n",
    "\n",
    "# Train the classifier and print training time\n",
    "clf.fit(X_train, y_train)"
   ]
  },
  {
   "cell_type": "code",
   "execution_count": 14,
   "metadata": {},
   "outputs": [
    {
     "data": {
      "text/plain": [
       "array([[1435, 3305,  205, ...,    0,    0,    0],\n",
       "       [2592, 2962,   96, ...,    0,    0,    0],\n",
       "       [2708, 3204,  209, ...,    0,    1,    0],\n",
       "       ...,\n",
       "       [7514, 2722,  343, ...,    0,    0,    0],\n",
       "       [8739, 3102,  254, ...,    0,    0,    0],\n",
       "       [ 853, 2962,  108, ...,    0,    0,    0]])"
      ]
     },
     "execution_count": 14,
     "metadata": {},
     "output_type": "execute_result"
    }
   ],
   "source": [
    "X_train"
   ]
  },
  {
   "cell_type": "code",
   "execution_count": 12,
   "metadata": {},
   "outputs": [
    {
     "name": "stdout",
     "output_type": "stream",
     "text": [
      "              precision    recall  f1-score   support\n",
      "\n",
      "          -1       0.75      0.79      0.77       425\n",
      "           1       0.78      0.74      0.76       439\n",
      "\n",
      "    accuracy                           0.76       864\n",
      "   macro avg       0.76      0.76      0.76       864\n",
      "weighted avg       0.77      0.76      0.76       864\n",
      "\n"
     ]
    }
   ],
   "source": [
    "#%%\n",
    "# Do classification on the test dataset and print classification results\n",
    "from sklearn.metrics import classification_report\n",
    "target_names = data['Cover_Type'].unique().astype(str).sort()\n",
    "y_pred = clf.predict(X_test)\n",
    "print(classification_report(y_test, y_pred, target_names=target_names))"
   ]
  },
  {
   "cell_type": "code",
   "execution_count": 13,
   "metadata": {},
   "outputs": [
    {
     "name": "stdout",
     "output_type": "stream",
     "text": [
      "0.7638888888888888\n"
     ]
    }
   ],
   "source": [
    "#%%\n",
    "# Compute accuracy of the classifier (correctly classified instances)\n",
    "from sklearn.metrics import accuracy_score\n",
    "print(accuracy_score(y_test, y_pred))"
   ]
  },
  {
   "cell_type": "code",
   "execution_count": 42,
   "metadata": {},
   "outputs": [
    {
     "data": {
      "text/plain": [
       "<matplotlib.legend.Legend at 0x7fccd6fbda60>"
      ]
     },
     "execution_count": 42,
     "metadata": {},
     "output_type": "execute_result"
    },
    {
     "data": {
      "image/png": "[encoded data removed]",
      "text/plain": [
       "<Figure size 432x288 with 1 Axes>"
      ]
     },
     "metadata": {
      "needs_background": "light"
     },
     "output_type": "display_data"
    }
   ],
   "source": [
    "#===================================================================\n",
    "#%%\n",
    "### Train AdaBoost\n",
    "\n",
    "# Your first exercise is to program AdaBoost.\n",
    "# You can call *DecisionTreeClassifier* as above, \n",
    "# but you have to figure out how to pass the weight vector (for weighted classification) \n",
    "# to the *fit* function using the help pages of scikit-learn. At the end of \n",
    "# the loop, compute the training and test errors so the last section of the code can \n",
    "# plot the lerning curves. \n",
    "# \n",
    "# Once the code is finished, play around with the hyperparameters (D and T), \n",
    "# and try to understand what is happening.\n",
    "\n",
    "D = 2 # tree depth\n",
    "T = 10 # number of trees\n",
    "w = np.ones(X_train.shape[0]) / X_train.shape[0] # weight initialization\n",
    "training_scores = np.zeros(X_train.shape[0]) # init scores with 0\n",
    "test_scores     = np.zeros(X_test.shape[0])\n",
    " \n",
    "# init errors\n",
    "training_errors = []\n",
    "test_errors = []\n",
    "\n",
    "#===============================\n",
    "for t in range(T):\n",
    "    \n",
    "    model = DecisionTreeClassifier(max_depth=D)\n",
    "    model.fit(X_train, y_train, sample_weight = w)\n",
    "    y_pred_test = model.predict(X_test)\n",
    "    y_pred_train = model.predict(X_train)\n",
    "    \n",
    "    gama_t = np.sum(w[np.where(y_pred_train != y_train)])/np.sum(w)\n",
    "    alpha_t = 1/2 * np.log((1-gama_t)/gama_t)\n",
    "\n",
    "    for i in range(X_train.shape[0]):\n",
    "        w[i] = w[i]*np.exp(alpha_t) if y_pred_train[i] \\\n",
    "                                       != y_train[i] else w[i]\n",
    "        \n",
    "    \n",
    "    #compute errors\n",
    "    training_scores += alpha_t * y_pred_train\n",
    "    training_error = len(training_scores[training_scores * y_train < 0]) / len(X_train)\n",
    "    \n",
    "    test_scores += alpha_t * y_pred_test\n",
    "    test_error = len(test_scores[test_scores * y_test < 0]) / len(X_test)\n",
    "    \n",
    "    training_errors.append(training_error)\n",
    "    test_errors.append(test_error)\n",
    "\n",
    "#===============================\n",
    "\n",
    "#  Plot training and test error\n",
    "plt.title('Error percentage X Number of Trees')\n",
    "plt.ylabel('Error percentage')\n",
    "plt.xlabel('Number of Trees')\n",
    "plt.plot(training_errors, label=\"training error\")\n",
    "plt.plot(test_errors, label=\"test error\")\n",
    "plt.legend()"
   ]
  },
  {
   "cell_type": "code",
   "execution_count": 50,
   "metadata": {},
   "outputs": [
    {
     "name": "stdout",
     "output_type": "stream",
     "text": [
      "2\n",
      "0.7789351851851852\n",
      "3\n",
      "0.7800925925925926\n",
      "4\n",
      "0.7777777777777778\n",
      "5\n",
      "0.7870370370370371\n",
      "6\n",
      "0.7986111111111112\n",
      "7\n",
      "0.8252314814814815\n",
      "8\n",
      "0.8310185185185185\n",
      "9\n",
      "0.8321759259259259\n",
      "10\n",
      "0.8310185185185185\n",
      "11\n",
      "0.84375\n",
      "12\n",
      "0.84375\n",
      "13\n",
      "0.8287037037037037\n",
      "14\n",
      "0.8275462962962963\n",
      "15\n",
      "0.8310185185185185\n"
     ]
    },
    {
     "data": {
      "image/png": "[encoded data removed]",
      "text/plain": [
       "<Figure size 432x288 with 1 Axes>"
      ]
     },
     "metadata": {
      "needs_background": "light"
     },
     "output_type": "display_data"
    }
   ],
   "source": [
    "#===================================================================\n",
    "#%%\n",
    "### Optimize AdaBoost\n",
    "\n",
    "# Your final exercise is to optimize the tree depth in AdaBoost. \n",
    "# Copy-paste your AdaBoost code into a function, and call it with different tree depths \n",
    "# and, for simplicity, with T = 100 iterations (number of trees). Plot the final \n",
    "# test error vs the tree depth. Discuss the plot.\n",
    "\n",
    "def AdaBoost(D, T):\n",
    "    w = np.ones(X_train.shape[0]) / X_train.shape[0]\n",
    "    training_scores = np.zeros(X_train.shape[0])\n",
    "    test_scores = np.zeros(X_test.shape[0])\n",
    "\n",
    "    ts = plt.arange(len(training_scores))\n",
    "    training_errors = []\n",
    "    test_errors = []\n",
    "\n",
    "    for t in range(T):\n",
    "    \n",
    "        model = DecisionTreeClassifier(max_depth=D)\n",
    "        model.fit(X_train, y_train, sample_weight = w)\n",
    "        y_pred_test = model.predict(X_test)\n",
    "        y_pred_train = model.predict(X_train)\n",
    "\n",
    "        gama_t = np.sum(w[np.where(y_pred_train != y_train)])/np.sum(w)\n",
    "        alpha_t = 1/2 * np.log((1-gama_t)/gama_t)\n",
    "\n",
    "        for i in range(X_train.shape[0]):\n",
    "            w[i] = w[i]*np.exp(alpha_t) if y_pred_train[i] \\\n",
    "                                           != y_train[i] else w[i]\n",
    "\n",
    "\n",
    "        #compute errors\n",
    "        training_scores += alpha_t * y_pred_train\n",
    "        training_error = len(training_scores[training_scores * y_train < 0]) / len(X_train)\n",
    "\n",
    "        test_scores += alpha_t * y_pred_test\n",
    "        test_error = len(test_scores[test_scores * y_test < 0]) / len(X_test)\n",
    "\n",
    "#         training_errors.append(training_error)\n",
    "#         test_errors.append(test_error)\n",
    "        \n",
    "    print(accuracy_score(np.sign(y_test),np.sign(test_scores)))\n",
    "\n",
    "    return test_error\n",
    "\n",
    "\n",
    "\n",
    "Ds = [2, 3, 4, 5, 6, 7, 8, 9, 10, 11, 12, 13, 14, 15]\n",
    "final_test_errors = []\n",
    "for D in Ds:\n",
    "    print(D)\n",
    "    final_test_errors.append(AdaBoost(D, 100))\n",
    "\n",
    "\n",
    "plt.plot(Ds, final_test_errors)\n",
    "plt.title(\"Test error vs. tree depth\")\n",
    "plt.ylabel(\"Test error\")\n",
    "plt.xlabel(\"Tree depth\")\n",
    "plt.show()"
   ]
  },
  {
   "cell_type": "code",
   "execution_count": 53,
   "metadata": {},
   "outputs": [
    {
     "data": {
      "text/plain": [
       "0.8217592592592593"
      ]
     },
     "execution_count": 53,
     "metadata": {},
     "output_type": "execute_result"
    }
   ],
   "source": [
    "from sklearn.ensemble import AdaBoostClassifier\n",
    "adaboost = AdaBoostClassifier(base_estimator=DecisionTreeClassifier(max_depth= 10))\n",
    "adaboost.fit(X_train, y_train)\n",
    "accuracy_score(y_test,adaboost.predict(X_test))"
   ]
  },
  {
   "cell_type": "code",
   "execution_count": null,
   "metadata": {},
   "outputs": [],
   "source": []
  }
 ],
 "metadata": {
  "kernelspec": {
   "display_name": "Python 3",
   "language": "python",
   "name": "python3"
  },
  "language_info": {
   "codemirror_mode": {
    "name": "ipython",
    "version": 3
   },
   "file_extension": ".py",
   "mimetype": "text/x-python",
   "name": "python",
   "nbconvert_exporter": "python",
   "pygments_lexer": "ipython3",
   "version": "3.8.3"
  }
 },
 "nbformat": 4,
 "nbformat_minor": 2
}

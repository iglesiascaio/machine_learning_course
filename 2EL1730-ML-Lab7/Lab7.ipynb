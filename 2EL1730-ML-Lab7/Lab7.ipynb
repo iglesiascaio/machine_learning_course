{
 "cells": [
  {
   "cell_type": "markdown",
   "metadata": {},
   "source": [
    "# 2EL1730: Machine Learning\n",
    "## CentraleSupelec\n",
    "\n",
    "### Lab 7: Deep Neural Network for Hand-written Digit Recognition\n",
    "\n",
    "#### Description\n",
    "\n",
    "The goal of this lab is to implement a deep neural network that utilize convolutional, pooling, dropout and normalization layer in order to solve the task of hand-written digit recognition. For the puprosed of this we are going to utilize `tensorflow` one of the major deep learning frameworks with definitions of the different layers.\n"
   ]
  },
  {
   "cell_type": "code",
   "execution_count": 62,
   "metadata": {},
   "outputs": [],
   "source": [
    "# imports nessecary libraries\n",
    "import tensorflow as tf\n",
    "from matplotlib import pyplot as plt\n",
    "import numpy as np\n",
    "%matplotlib inline"
   ]
  },
  {
   "cell_type": "markdown",
   "metadata": {},
   "source": [
    "### Part 1\n",
    "#### Loading and Visualizing the MNIST Dataset\n",
    "\n",
    "In order to load the MNIST Dataset we are going to utilize the loader from `keras` within `tensorflow`"
   ]
  },
  {
   "cell_type": "code",
   "execution_count": 63,
   "metadata": {},
   "outputs": [
    {
     "name": "stdout",
     "output_type": "stream",
     "text": [
      "[5 0 4 1 9]\n",
      "x_train shape: (60000, 28, 28)  -  x_test shape: (10000, 28, 28)\n",
      "y_train shape: (60000, 10)  -  y_test shape: (10000, 10)\n",
      "Categorical Target: [0. 0. 0. 0. 1. 0. 0. 0. 0. 0.]\n"
     ]
    },
    {
     "data": {
      "image/png": "[encoded data removed]",
      "text/plain": [
       "<Figure size 432x288 with 1 Axes>"
      ]
     },
     "metadata": {
      "needs_background": "light"
     },
     "output_type": "display_data"
    }
   ],
   "source": [
    "# Loads the MNIST data\n",
    "(x_train, y_train), (x_test, y_test) = tf.keras.datasets.mnist.load_data()\n",
    "\n",
    "# Normalizes data\n",
    "x_train = x_train.astype('float32') / 255\n",
    "x_test = x_test.astype('float32') / 255\n",
    "\n",
    "print(y_train[:5])\n",
    "# Converts a class vector (integers) to binary class matrix\n",
    "y_train = tf.keras.utils.to_categorical(y_train)\n",
    "y_test = tf.keras.utils.to_categorical(y_test)\n",
    "\n",
    "print('x_train shape:', x_train.shape, ' - ', 'x_test shape:', x_test.shape)\n",
    "print('y_train shape:', y_train.shape, ' - ', 'y_test shape:', y_test.shape)\n",
    "\n",
    "# Plots and example\n",
    "sample_idx = 20\n",
    "plt.imshow(x_train[sample_idx,...], cmap='gray')\n",
    "print('Categorical Target:', y_train[sample_idx])"
   ]
  },
  {
   "cell_type": "code",
   "execution_count": 64,
   "metadata": {},
   "outputs": [
    {
     "data": {
      "text/plain": [
       "array([[0., 0., 0., 0., 0., 1., 0., 0., 0., 0.],\n",
       "       [1., 0., 0., 0., 0., 0., 0., 0., 0., 0.],\n",
       "       [0., 0., 0., 0., 1., 0., 0., 0., 0., 0.],\n",
       "       [0., 1., 0., 0., 0., 0., 0., 0., 0., 0.],\n",
       "       [0., 0., 0., 0., 0., 0., 0., 0., 0., 1.]], dtype=float32)"
      ]
     },
     "execution_count": 64,
     "metadata": {},
     "output_type": "execute_result"
    }
   ],
   "source": [
    "y_train[:5]"
   ]
  },
  {
   "cell_type": "markdown",
   "metadata": {},
   "source": [
    "### Part 2\n",
    "#### Setting up the Deep Neural Network\n",
    "\n",
    "Edit the following linear logistic regression model and change it to the LeNet architecture. You can try different kernel, pooling and stride sizes for the different layers. Documentation about the defined layers can be found here: https://www.tensorflow.org/api_docs/python/tf/keras/layers\n",
    "\n",
    "![LeNet](https://engmrk.com/wp-content/uploads/2018/09/LeNet_Original_Image.jpg)"
   ]
  },
  {
   "cell_type": "code",
   "execution_count": 65,
   "metadata": {},
   "outputs": [
    {
     "data": {
      "text/plain": [
       "tensorflow.python.keras.layers.convolutional.Conv2D"
      ]
     },
     "execution_count": 65,
     "metadata": {},
     "output_type": "execute_result"
    }
   ],
   "source": [
    "tf.keras.layers.Conv2D"
   ]
  },
  {
   "cell_type": "code",
   "execution_count": 66,
   "metadata": {},
   "outputs": [
    {
     "name": "stdout",
     "output_type": "stream",
     "text": [
      "Model: \"model_6\"\n",
      "_________________________________________________________________\n",
      "Layer (type)                 Output Shape              Param #   \n",
      "=================================================================\n",
      "input_12 (InputLayer)        [(None, 28, 28, 1)]       0         \n",
      "_________________________________________________________________\n",
      "conv2d_15 (Conv2D)           (None, 26, 26, 6)         60        \n",
      "_________________________________________________________________\n",
      "max_pooling2d_11 (MaxPooling (None, 13, 13, 6)         0         \n",
      "_________________________________________________________________\n",
      "conv2d_16 (Conv2D)           (None, 11, 11, 16)        880       \n",
      "_________________________________________________________________\n",
      "max_pooling2d_12 (MaxPooling (None, 5, 5, 16)          0         \n",
      "_________________________________________________________________\n",
      "flatten_5 (Flatten)          (None, 400)               0         \n",
      "_________________________________________________________________\n",
      "dense_16 (Dense)             (None, 120)               48120     \n",
      "_________________________________________________________________\n",
      "dense_17 (Dense)             (None, 84)                10164     \n",
      "_________________________________________________________________\n",
      "dense_18 (Dense)             (None, 10)                850       \n",
      "=================================================================\n",
      "Total params: 60,074\n",
      "Trainable params: 60,074\n",
      "Non-trainable params: 0\n",
      "_________________________________________________________________\n"
     ]
    }
   ],
   "source": [
    "# The model that you will implement should have the following architecture\n",
    "#1 -> Convolutional layer with 6 kernels and tanh activation function\n",
    "#2 -> Max pooling downsampling the image by 2\n",
    "#3 -> Convolutional layer with 16 kernels and tanh activation function\n",
    "#4 -> Max pooling downsampling the image by 2\n",
    "#5 -> Fully connected layer with 120 units\n",
    "#6 -> Fully connected layer with 84 units\n",
    "#7 -> Fully connected layer with 10 units\n",
    "\n",
    "# Demo Model Definition\n",
    "inp = tf.keras.Input(shape=(28,28,1))\n",
    "x =  tf.keras.layers.Conv2D(filters = 6,kernel_size = (3,3), activation = 'tanh')(inp)\n",
    "x = tf.keras.layers.MaxPool2D(pool_size = (2,2))(x)\n",
    "\n",
    "x = tf.keras.layers.Conv2D(filters = 16, kernel_size = (3,3), activation = 'tanh')(x)\n",
    "x = tf.keras.layers.MaxPool2D((2,2))(x)\n",
    "\n",
    "x = tf.keras.layers.Flatten()(x)\n",
    "x = tf.keras.layers.Dense(120, activation = 'tanh')(x)\n",
    "x = tf.keras.layers.Dense(84, activation = 'tanh')(x)\n",
    "out = tf.keras.layers.Dense(10, activation = 'softmax')(x)\n",
    "\n",
    "model = tf.keras.Model(inputs=inp, outputs=out)\n",
    "model.summary()\n"
   ]
  },
  {
   "cell_type": "markdown",
   "metadata": {},
   "source": [
    "#### Model Compilation and Training\n",
    "\n",
    "In this part the above model is compiled some the learning parameters are defined and it is trained for a few epochs."
   ]
  },
  {
   "cell_type": "code",
   "execution_count": 67,
   "metadata": {},
   "outputs": [
    {
     "name": "stdout",
     "output_type": "stream",
     "text": [
      "Epoch 1/10\n",
      "750/750 [==============================] - 7s 10ms/step - loss: 1.6323 - accuracy: 0.5386 - val_loss: 0.4292 - val_accuracy: 0.8907\n",
      "Epoch 2/10\n",
      "750/750 [==============================] - 7s 10ms/step - loss: 0.4074 - accuracy: 0.8932 - val_loss: 0.2837 - val_accuracy: 0.9226\n",
      "Epoch 3/10\n",
      "750/750 [==============================] - 7s 9ms/step - loss: 0.2790 - accuracy: 0.9221 - val_loss: 0.2252 - val_accuracy: 0.9387\n",
      "Epoch 4/10\n",
      "750/750 [==============================] - 8s 10ms/step - loss: 0.2279 - accuracy: 0.9356 - val_loss: 0.1908 - val_accuracy: 0.9471\n",
      "Epoch 5/10\n",
      "750/750 [==============================] - 8s 10ms/step - loss: 0.1914 - accuracy: 0.9460 - val_loss: 0.1661 - val_accuracy: 0.9535\n",
      "Epoch 6/10\n",
      "750/750 [==============================] - 7s 9ms/step - loss: 0.1683 - accuracy: 0.9515 - val_loss: 0.1472 - val_accuracy: 0.9583\n",
      "Epoch 7/10\n",
      "750/750 [==============================] - 7s 9ms/step - loss: 0.1435 - accuracy: 0.9592 - val_loss: 0.1330 - val_accuracy: 0.9618\n",
      "Epoch 8/10\n",
      "750/750 [==============================] - 6s 8ms/step - loss: 0.1284 - accuracy: 0.9626 - val_loss: 0.1218 - val_accuracy: 0.9644\n",
      "Epoch 9/10\n",
      "750/750 [==============================] - 6s 8ms/step - loss: 0.1168 - accuracy: 0.9666 - val_loss: 0.1127 - val_accuracy: 0.9677\n",
      "Epoch 10/10\n",
      "750/750 [==============================] - 6s 8ms/step - loss: 0.1169 - accuracy: 0.9660 - val_loss: 0.1051 - val_accuracy: 0.9691\n"
     ]
    }
   ],
   "source": [
    "# Use the model.compile and model.fit to train the model\n",
    "# loss = categorical_crossentropy , optimizer=sgd\n",
    "# batch_size=64, validation_split=0.2, epochs=5\n",
    "model.compile(loss = 'categorical_crossentropy' , optimizer='sgd', metrics=[\"accuracy\"])\n",
    "history = model.fit(x_train[...,None],y_train, batch_size=64, validation_split=0.2, epochs=10)"
   ]
  },
  {
   "cell_type": "markdown",
   "metadata": {},
   "source": [
    "### Part 3\n",
    "#### Training Evaluation\n",
    "\n",
    "The learning curves and testing results are calculated and presented"
   ]
  },
  {
   "cell_type": "code",
   "execution_count": 68,
   "metadata": {},
   "outputs": [
    {
     "data": {
      "image/png": "[encoded data removed]",
      "text/plain": [
       "<Figure size 432x288 with 1 Axes>"
      ]
     },
     "metadata": {
      "needs_background": "light"
     },
     "output_type": "display_data"
    }
   ],
   "source": [
    "# Plots the learning curves\n",
    "[plt.plot(value, label=key) for key,value in history.history.items() if key in ['accuracy','val_accuracy']]\n",
    "plt.legend()\n",
    "plt.show()"
   ]
  },
  {
   "cell_type": "code",
   "execution_count": 69,
   "metadata": {},
   "outputs": [
    {
     "data": {
      "image/png": "[encoded data removed]",
      "text/plain": [
       "<Figure size 432x288 with 1 Axes>"
      ]
     },
     "metadata": {
      "needs_background": "light"
     },
     "output_type": "display_data"
    }
   ],
   "source": [
    "# Plots the learning curves\n",
    "[plt.plot(value, label=key) for key,value in history.history.items() if key in ['val_loss','loss']]\n",
    "plt.legend()\n",
    "plt.show()"
   ]
  },
  {
   "cell_type": "code",
   "execution_count": 70,
   "metadata": {},
   "outputs": [
    {
     "name": "stdout",
     "output_type": "stream",
     "text": [
      "313/313 [==============================] - 1s 2ms/step - loss: 0.0955 - accuracy: 0.9729\n",
      "Test Loss: 0.09553316980600357\n",
      "Test Accuracy: 0.9728999733924866\n"
     ]
    }
   ],
   "source": [
    "# Evaluates the trained model on the test set. \n",
    "#Use the model.evaluate function\n",
    "test_scores = model.evaluate(x_test[...,None], y_test)\n",
    "print('Test Loss:', test_scores[0])\n",
    "print('Test Accuracy:', test_scores[1])"
   ]
  },
  {
   "cell_type": "code",
   "execution_count": 71,
   "metadata": {},
   "outputs": [
    {
     "name": "stdout",
     "output_type": "stream",
     "text": [
      "tf.Tensor(\n",
      "[[ 972    0    2    0    0    1    2    1    2    0]\n",
      " [   0 1122    5    0    0    0    4    1    3    0]\n",
      " [   5    3 1001    2    3    2    2   10    4    0]\n",
      " [   0    0    7  979    0    7    0    6    9    2]\n",
      " [   1    0    3    0  965    0    4    2    2    5]\n",
      " [   6    0    1    7    1  864    6    1    5    1]\n",
      " [   9    3    1    0    4    3  936    0    2    0]\n",
      " [   2    4   19    4    2    0    0  989    1    7]\n",
      " [   6    0    6    7    2    3    3   10  931    6]\n",
      " [   7    5    2    4    6    6    0    7    2  970]], shape=(10, 10), dtype=int32)\n"
     ]
    }
   ],
   "source": [
    "# Calculate the network's predictions and prints the confusion matrix. \n",
    "#Use model.predict function\n",
    "preds = model.predict(x_test[...,None])\n",
    "print(tf.math.confusion_matrix(tf.math.argmax(y_test,axis = -1), tf.math.argmax(preds,axis = -1)))"
   ]
  },
  {
   "cell_type": "code",
   "execution_count": 72,
   "metadata": {},
   "outputs": [
    {
     "name": "stdout",
     "output_type": "stream",
     "text": [
      "              precision    recall  f1-score   support\n",
      "\n",
      "           0       0.96      0.99      0.98       980\n",
      "           1       0.99      0.99      0.99      1135\n",
      "           2       0.96      0.97      0.96      1032\n",
      "           3       0.98      0.97      0.97      1010\n",
      "           4       0.98      0.98      0.98       982\n",
      "           5       0.98      0.97      0.97       892\n",
      "           6       0.98      0.98      0.98       958\n",
      "           7       0.96      0.96      0.96      1028\n",
      "           8       0.97      0.96      0.96       974\n",
      "           9       0.98      0.96      0.97      1009\n",
      "\n",
      "    accuracy                           0.97     10000\n",
      "   macro avg       0.97      0.97      0.97     10000\n",
      "weighted avg       0.97      0.97      0.97     10000\n",
      "\n"
     ]
    }
   ],
   "source": [
    "from sklearn.metrics import classification_report\n",
    "print(classification_report(tf.math.argmax(y_test,axis=-1),  tf.math.argmax(preds,axis=-1)))"
   ]
  },
  {
   "cell_type": "markdown",
   "metadata": {},
   "source": [
    "### Part 4\n",
    "#### Print the kernels of the network"
   ]
  },
  {
   "cell_type": "code",
   "execution_count": 73,
   "metadata": {},
   "outputs": [
    {
     "data": {
      "image/png": "[encoded data removed]",
      "text/plain": [
       "<Figure size 432x288 with 6 Axes>"
      ]
     },
     "metadata": {
      "needs_background": "light"
     },
     "output_type": "display_data"
    }
   ],
   "source": [
    "# Use get_weights() function\n",
    "plt.figure()\n",
    "kernels,biases = model.layers[1].get_weights()\n",
    "columns = 3 \n",
    "for i in range((kernels.shape[-1])):\n",
    "    kernel = kernels[:,:,0,i]\n",
    "    plt.subplot(kernels.shape[-1]/columns+1,columns, i+1)\n",
    "    plt.imshow(kernel, cmap = 'gray')"
   ]
  },
  {
   "cell_type": "markdown",
   "metadata": {},
   "source": [
    "### Part 5\n",
    "### Modify the initial architecture adding dropout layers and other activation functions."
   ]
  },
  {
   "cell_type": "code",
   "execution_count": 74,
   "metadata": {},
   "outputs": [
    {
     "name": "stdout",
     "output_type": "stream",
     "text": [
      "Model: \"model_7\"\n",
      "_________________________________________________________________\n",
      "Layer (type)                 Output Shape              Param #   \n",
      "=================================================================\n",
      "input_13 (InputLayer)        [(None, 28, 28, 1)]       0         \n",
      "_________________________________________________________________\n",
      "conv2d_17 (Conv2D)           (None, 26, 26, 6)         60        \n",
      "_________________________________________________________________\n",
      "max_pooling2d_13 (MaxPooling (None, 13, 13, 6)         0         \n",
      "_________________________________________________________________\n",
      "conv2d_18 (Conv2D)           (None, 11, 11, 16)        880       \n",
      "_________________________________________________________________\n",
      "max_pooling2d_14 (MaxPooling (None, 5, 5, 16)          0         \n",
      "_________________________________________________________________\n",
      "flatten_6 (Flatten)          (None, 400)               0         \n",
      "_________________________________________________________________\n",
      "dense_19 (Dense)             (None, 120)               48120     \n",
      "_________________________________________________________________\n",
      "dropout_2 (Dropout)          (None, 120)               0         \n",
      "_________________________________________________________________\n",
      "dense_20 (Dense)             (None, 84)                10164     \n",
      "_________________________________________________________________\n",
      "dropout_3 (Dropout)          (None, 84)                0         \n",
      "_________________________________________________________________\n",
      "dense_21 (Dense)             (None, 10)                850       \n",
      "=================================================================\n",
      "Total params: 60,074\n",
      "Trainable params: 60,074\n",
      "Non-trainable params: 0\n",
      "_________________________________________________________________\n"
     ]
    }
   ],
   "source": [
    "# Model Definition\n",
    "inp = tf.keras.Input(shape=(28,28,1))\n",
    "x =  tf.keras.layers.Conv2D(filters = 6,kernel_size = (3,3), activation = 'relu')(inp)\n",
    "x = tf.keras.layers.MaxPool2D(pool_size = (2,2))(x)\n",
    "\n",
    "x = tf.keras.layers.Conv2D(filters = 16, kernel_size = (3,3), activation = 'relu')(x)\n",
    "x = tf.keras.layers.MaxPool2D((2,2))(x)\n",
    "\n",
    "x = tf.keras.layers.Flatten()(x)\n",
    "x = tf.keras.layers.Dense(120, activation = 'relu')(x)\n",
    "x = tf.keras.layers.Dropout(0.2)(x)\n",
    "x = tf.keras.layers.Dense(84, activation = 'relu')(x)\n",
    "x = tf.keras.layers.Dropout(0.2)(x)\n",
    "out = tf.keras.layers.Dense(10, activation = 'softmax')(x)\n",
    "\n",
    "model = tf.keras.Model(inputs=inp, outputs=out)\n",
    "model.summary()"
   ]
  },
  {
   "cell_type": "code",
   "execution_count": 75,
   "metadata": {},
   "outputs": [
    {
     "name": "stdout",
     "output_type": "stream",
     "text": [
      "Epoch 1/10\n",
      "750/750 [==============================] - 6s 8ms/step - loss: 2.0416 - accuracy: 0.2799 - val_loss: 0.3773 - val_accuracy: 0.8921\n",
      "Epoch 2/10\n",
      "750/750 [==============================] - 6s 8ms/step - loss: 0.5037 - accuracy: 0.8406 - val_loss: 0.2272 - val_accuracy: 0.9305\n",
      "Epoch 3/10\n",
      "750/750 [==============================] - 6s 8ms/step - loss: 0.3302 - accuracy: 0.8996 - val_loss: 0.1714 - val_accuracy: 0.9484\n",
      "Epoch 4/10\n",
      "750/750 [==============================] - 6s 9ms/step - loss: 0.2599 - accuracy: 0.9193 - val_loss: 0.1404 - val_accuracy: 0.9587\n",
      "Epoch 5/10\n",
      "750/750 [==============================] - 6s 8ms/step - loss: 0.2192 - accuracy: 0.9342 - val_loss: 0.1205 - val_accuracy: 0.9629\n",
      "Epoch 6/10\n",
      "750/750 [==============================] - 6s 9ms/step - loss: 0.1913 - accuracy: 0.9430 - val_loss: 0.1086 - val_accuracy: 0.9656\n",
      "Epoch 7/10\n",
      "750/750 [==============================] - 6s 8ms/step - loss: 0.1749 - accuracy: 0.9469 - val_loss: 0.0993 - val_accuracy: 0.9699\n",
      "Epoch 8/10\n",
      "750/750 [==============================] - 6s 8ms/step - loss: 0.1552 - accuracy: 0.9523 - val_loss: 0.1012 - val_accuracy: 0.9695\n",
      "Epoch 9/10\n",
      "750/750 [==============================] - 6s 8ms/step - loss: 0.1481 - accuracy: 0.9560 - val_loss: 0.0901 - val_accuracy: 0.9720\n",
      "Epoch 10/10\n",
      "750/750 [==============================] - 6s 8ms/step - loss: 0.1376 - accuracy: 0.9579 - val_loss: 0.0872 - val_accuracy: 0.9731\n",
      "Done!\n"
     ]
    }
   ],
   "source": [
    "# Use the model.compile and model.fit to train the model\n",
    "# loss = categorical_crossentropy , optimizer=sgd\n",
    "# batch_size=64, validation_split=0.2, epochs=5\n",
    "model.compile(loss = 'categorical_crossentropy' , optimizer='sgd', metrics=[\"accuracy\"])\n",
    "history = model.fit(x_train[...,None],y_train, batch_size=64, validation_split=0.2, epochs=10)\n",
    "print('Done!')"
   ]
  },
  {
   "cell_type": "code",
   "execution_count": null,
   "metadata": {},
   "outputs": [],
   "source": []
  }
 ],
 "metadata": {
  "kernelspec": {
   "display_name": "dl-env",
   "language": "python",
   "name": "dl-env"
  },
  "language_info": {
   "codemirror_mode": {
    "name": "ipython",
    "version": 3
   },
   "file_extension": ".py",
   "mimetype": "text/x-python",
   "name": "python",
   "nbconvert_exporter": "python",
   "pygments_lexer": "ipython3",
   "version": "3.8.3"
  }
 },
 "nbformat": 4,
 "nbformat_minor": 2
}
